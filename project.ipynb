{
 "cells": [
  {
   "cell_type": "code",
   "execution_count": 1,
   "id": "be7b840e",
   "metadata": {},
   "outputs": [
    {
     "data": {
      "text/html": [
       "<div>\n",
       "<style scoped>\n",
       "    .dataframe tbody tr th:only-of-type {\n",
       "        vertical-align: middle;\n",
       "    }\n",
       "\n",
       "    .dataframe tbody tr th {\n",
       "        vertical-align: top;\n",
       "    }\n",
       "\n",
       "    .dataframe thead th {\n",
       "        text-align: right;\n",
       "    }\n",
       "</style>\n",
       "<table border=\"1\" class=\"dataframe\">\n",
       "  <thead>\n",
       "    <tr style=\"text-align: right;\">\n",
       "      <th></th>\n",
       "      <th>id</th>\n",
       "      <th>gender</th>\n",
       "      <th>age</th>\n",
       "      <th>hypertension</th>\n",
       "      <th>heart_disease</th>\n",
       "      <th>ever_married</th>\n",
       "      <th>work_type</th>\n",
       "      <th>Residence_type</th>\n",
       "      <th>avg_glucose_level</th>\n",
       "      <th>bmi</th>\n",
       "      <th>smoking_status</th>\n",
       "      <th>stroke</th>\n",
       "    </tr>\n",
       "  </thead>\n",
       "  <tbody>\n",
       "    <tr>\n",
       "      <th>0</th>\n",
       "      <td>9046</td>\n",
       "      <td>Male</td>\n",
       "      <td>67.0</td>\n",
       "      <td>0</td>\n",
       "      <td>1</td>\n",
       "      <td>Yes</td>\n",
       "      <td>Private</td>\n",
       "      <td>Urban</td>\n",
       "      <td>228.69</td>\n",
       "      <td>36.6</td>\n",
       "      <td>formerly smoked</td>\n",
       "      <td>1</td>\n",
       "    </tr>\n",
       "    <tr>\n",
       "      <th>1</th>\n",
       "      <td>51676</td>\n",
       "      <td>Female</td>\n",
       "      <td>61.0</td>\n",
       "      <td>0</td>\n",
       "      <td>0</td>\n",
       "      <td>Yes</td>\n",
       "      <td>Self-employed</td>\n",
       "      <td>Rural</td>\n",
       "      <td>202.21</td>\n",
       "      <td>NaN</td>\n",
       "      <td>never smoked</td>\n",
       "      <td>1</td>\n",
       "    </tr>\n",
       "    <tr>\n",
       "      <th>2</th>\n",
       "      <td>31112</td>\n",
       "      <td>Male</td>\n",
       "      <td>80.0</td>\n",
       "      <td>0</td>\n",
       "      <td>1</td>\n",
       "      <td>Yes</td>\n",
       "      <td>Private</td>\n",
       "      <td>Rural</td>\n",
       "      <td>105.92</td>\n",
       "      <td>32.5</td>\n",
       "      <td>never smoked</td>\n",
       "      <td>1</td>\n",
       "    </tr>\n",
       "    <tr>\n",
       "      <th>3</th>\n",
       "      <td>60182</td>\n",
       "      <td>Female</td>\n",
       "      <td>49.0</td>\n",
       "      <td>0</td>\n",
       "      <td>0</td>\n",
       "      <td>Yes</td>\n",
       "      <td>Private</td>\n",
       "      <td>Urban</td>\n",
       "      <td>171.23</td>\n",
       "      <td>34.4</td>\n",
       "      <td>smokes</td>\n",
       "      <td>1</td>\n",
       "    </tr>\n",
       "    <tr>\n",
       "      <th>4</th>\n",
       "      <td>1665</td>\n",
       "      <td>Female</td>\n",
       "      <td>79.0</td>\n",
       "      <td>1</td>\n",
       "      <td>0</td>\n",
       "      <td>Yes</td>\n",
       "      <td>Self-employed</td>\n",
       "      <td>Rural</td>\n",
       "      <td>174.12</td>\n",
       "      <td>24.0</td>\n",
       "      <td>never smoked</td>\n",
       "      <td>1</td>\n",
       "    </tr>\n",
       "  </tbody>\n",
       "</table>\n",
       "</div>"
      ],
      "text/plain": [
       "      id  gender   age  hypertension  heart_disease ever_married  \\\n",
       "0   9046    Male  67.0             0              1          Yes   \n",
       "1  51676  Female  61.0             0              0          Yes   \n",
       "2  31112    Male  80.0             0              1          Yes   \n",
       "3  60182  Female  49.0             0              0          Yes   \n",
       "4   1665  Female  79.0             1              0          Yes   \n",
       "\n",
       "       work_type Residence_type  avg_glucose_level   bmi   smoking_status  \\\n",
       "0        Private          Urban             228.69  36.6  formerly smoked   \n",
       "1  Self-employed          Rural             202.21   NaN     never smoked   \n",
       "2        Private          Rural             105.92  32.5     never smoked   \n",
       "3        Private          Urban             171.23  34.4           smokes   \n",
       "4  Self-employed          Rural             174.12  24.0     never smoked   \n",
       "\n",
       "   stroke  \n",
       "0       1  \n",
       "1       1  \n",
       "2       1  \n",
       "3       1  \n",
       "4       1  "
      ]
     },
     "execution_count": 1,
     "metadata": {},
     "output_type": "execute_result"
    }
   ],
   "source": [
    "import pandas as pd\n",
    "\n",
    "df = pd.read_csv('stroke.csv')\n",
    "df.head()\n"
   ]
  },
  {
   "cell_type": "code",
   "execution_count": 5,
   "id": "1a0fc684",
   "metadata": {},
   "outputs": [
    {
     "name": "stdout",
     "output_type": "stream",
     "text": [
      "5110\n",
      "5110\n",
      "3566\n"
     ]
    }
   ],
   "source": [
    "print(len(df))\n",
    "df['bmi'] = df['bmi'].fillna(df['bmi'].mean())\n",
    "print(len(df))\n",
    "df = df[df.smoking_status != 'Unknown']\n",
    "print(len(df))"
   ]
  },
  {
   "cell_type": "code",
   "execution_count": 3,
   "id": "0a0f3921",
   "metadata": {},
   "outputs": [
    {
     "name": "stdout",
     "output_type": "stream",
     "text": [
      "5110\n"
     ]
    }
   ],
   "source": [
    "print(len(df))"
   ]
  },
  {
   "cell_type": "code",
   "execution_count": 6,
   "id": "432a9165",
   "metadata": {},
   "outputs": [
    {
     "data": {
      "text/html": [
       "<div>\n",
       "<style scoped>\n",
       "    .dataframe tbody tr th:only-of-type {\n",
       "        vertical-align: middle;\n",
       "    }\n",
       "\n",
       "    .dataframe tbody tr th {\n",
       "        vertical-align: top;\n",
       "    }\n",
       "\n",
       "    .dataframe thead th {\n",
       "        text-align: right;\n",
       "    }\n",
       "</style>\n",
       "<table border=\"1\" class=\"dataframe\">\n",
       "  <thead>\n",
       "    <tr style=\"text-align: right;\">\n",
       "      <th></th>\n",
       "      <th>id</th>\n",
       "      <th>gender</th>\n",
       "      <th>age</th>\n",
       "      <th>hypertension</th>\n",
       "      <th>heart_disease</th>\n",
       "      <th>ever_married</th>\n",
       "      <th>work_type</th>\n",
       "      <th>Residence_type</th>\n",
       "      <th>avg_glucose_level</th>\n",
       "      <th>bmi</th>\n",
       "      <th>smoking_status</th>\n",
       "      <th>stroke</th>\n",
       "    </tr>\n",
       "  </thead>\n",
       "  <tbody>\n",
       "    <tr>\n",
       "      <th>0</th>\n",
       "      <td>9046</td>\n",
       "      <td>1</td>\n",
       "      <td>67.0</td>\n",
       "      <td>0</td>\n",
       "      <td>1</td>\n",
       "      <td>1</td>\n",
       "      <td>2</td>\n",
       "      <td>1</td>\n",
       "      <td>228.69</td>\n",
       "      <td>36.600000</td>\n",
       "      <td>0</td>\n",
       "      <td>1</td>\n",
       "    </tr>\n",
       "    <tr>\n",
       "      <th>1</th>\n",
       "      <td>51676</td>\n",
       "      <td>0</td>\n",
       "      <td>61.0</td>\n",
       "      <td>0</td>\n",
       "      <td>0</td>\n",
       "      <td>1</td>\n",
       "      <td>3</td>\n",
       "      <td>0</td>\n",
       "      <td>202.21</td>\n",
       "      <td>28.893237</td>\n",
       "      <td>1</td>\n",
       "      <td>1</td>\n",
       "    </tr>\n",
       "    <tr>\n",
       "      <th>2</th>\n",
       "      <td>31112</td>\n",
       "      <td>1</td>\n",
       "      <td>80.0</td>\n",
       "      <td>0</td>\n",
       "      <td>1</td>\n",
       "      <td>1</td>\n",
       "      <td>2</td>\n",
       "      <td>0</td>\n",
       "      <td>105.92</td>\n",
       "      <td>32.500000</td>\n",
       "      <td>1</td>\n",
       "      <td>1</td>\n",
       "    </tr>\n",
       "    <tr>\n",
       "      <th>3</th>\n",
       "      <td>60182</td>\n",
       "      <td>0</td>\n",
       "      <td>49.0</td>\n",
       "      <td>0</td>\n",
       "      <td>0</td>\n",
       "      <td>1</td>\n",
       "      <td>2</td>\n",
       "      <td>1</td>\n",
       "      <td>171.23</td>\n",
       "      <td>34.400000</td>\n",
       "      <td>2</td>\n",
       "      <td>1</td>\n",
       "    </tr>\n",
       "    <tr>\n",
       "      <th>4</th>\n",
       "      <td>1665</td>\n",
       "      <td>0</td>\n",
       "      <td>79.0</td>\n",
       "      <td>1</td>\n",
       "      <td>0</td>\n",
       "      <td>1</td>\n",
       "      <td>3</td>\n",
       "      <td>0</td>\n",
       "      <td>174.12</td>\n",
       "      <td>24.000000</td>\n",
       "      <td>1</td>\n",
       "      <td>1</td>\n",
       "    </tr>\n",
       "  </tbody>\n",
       "</table>\n",
       "</div>"
      ],
      "text/plain": [
       "      id  gender   age  hypertension  heart_disease  ever_married  work_type  \\\n",
       "0   9046       1  67.0             0              1             1          2   \n",
       "1  51676       0  61.0             0              0             1          3   \n",
       "2  31112       1  80.0             0              1             1          2   \n",
       "3  60182       0  49.0             0              0             1          2   \n",
       "4   1665       0  79.0             1              0             1          3   \n",
       "\n",
       "   Residence_type  avg_glucose_level        bmi  smoking_status  stroke  \n",
       "0               1             228.69  36.600000               0       1  \n",
       "1               0             202.21  28.893237               1       1  \n",
       "2               0             105.92  32.500000               1       1  \n",
       "3               1             171.23  34.400000               2       1  \n",
       "4               0             174.12  24.000000               1       1  "
      ]
     },
     "execution_count": 6,
     "metadata": {},
     "output_type": "execute_result"
    }
   ],
   "source": [
    "from sklearn import preprocessing\n",
    "\n",
    "le = preprocessing.LabelEncoder()\n",
    "cols = ['gender','ever_married','work_type','Residence_type','smoking_status']\n",
    "df[cols] = df[cols].apply(le.fit_transform)\n",
    "df.head()"
   ]
  },
  {
   "cell_type": "code",
   "execution_count": 7,
   "id": "28cba56e",
   "metadata": {},
   "outputs": [
    {
     "name": "stdout",
     "output_type": "stream",
     "text": [
      "num of class_0: 3364\n",
      "num of class_1: 202\n"
     ]
    }
   ],
   "source": [
    "class_0 = df.loc[(df['stroke'] == 0)]\n",
    "class_1 = df.loc[(df['stroke'] == 1)]\n",
    "print('num of class_0:',len(class_0))\n",
    "print('num of class_1:',len(class_1))\n"
   ]
  },
  {
   "cell_type": "markdown",
   "id": "a5de614d",
   "metadata": {},
   "source": [
    "#### oversample miniority class"
   ]
  },
  {
   "cell_type": "code",
   "execution_count": 11,
   "id": "ae3f9e3d",
   "metadata": {},
   "outputs": [
    {
     "name": "stdout",
     "output_type": "stream",
     "text": [
      "num of class_0: 3364\n",
      "num of class_1: 3364\n"
     ]
    }
   ],
   "source": [
    "from sklearn.utils import resample\n",
    "from sklearn.model_selection import train_test_split\n",
    "\n",
    "class_1_resampled = resample(class_1, replace = True, n_samples = len(class_0), random_state = 88)\n",
    "\n",
    "df_resampled = pd.concat([class_0, class_1_resampled])\n",
    "new_class_0 = df_resampled.loc[(df['stroke'] == 0)]\n",
    "new_class_1 = df_resampled.loc[(df['stroke'] == 1)]\n",
    "print('num of class_0:',len(new_class_0))\n",
    "print('num of class_1:',len(new_class_1))\n",
    "\n",
    "\n",
    "bx_train, bx_test, by_train, by_test = train_test_split(df_resampled.iloc[:,1:-1],df_resampled['stroke'],test_size = 0.3, random_state = 88)"
   ]
  },
  {
   "cell_type": "markdown",
   "id": "f91ccfd6",
   "metadata": {},
   "source": [
    "## SVM"
   ]
  },
  {
   "cell_type": "code",
   "execution_count": 16,
   "id": "ced2afac",
   "metadata": {},
   "outputs": [],
   "source": [
    "from sklearn.ensemble import BaggingClassifier\n",
    "from sklearn import svm\n",
    "from sklearn.preprocessing import StandardScaler\n",
    "\n",
    "scaler = StandardScaler()\n",
    "df[['age', 'avg_glucose_level', 'bmi']] = scaler.fit_transform(df[['age', 'avg_glucose_level', 'bmi']])\n"
   ]
  },
  {
   "cell_type": "code",
   "execution_count": 18,
   "id": "6a9086a8",
   "metadata": {},
   "outputs": [
    {
     "name": "stdout",
     "output_type": "stream",
     "text": [
      "linearSVM score 0.7424467558197128\n",
      "polySVM score 0.7558197127290738\n",
      "rbfSVM score 0.7508667657256067\n",
      "sigmoidSVM score 0.687964338781575\n"
     ]
    }
   ],
   "source": [
    "n_estimators = 10\n",
    "linearsvm = BaggingClassifier(svm.SVC(kernel='linear'), random_state = 88 ,max_samples=1.0 / n_estimators, n_estimators=n_estimators)\n",
    "linearsvm.fit(bx_train_scaled, by_train)\n",
    "y_pred_linearSVM = linearsvm.predict(bx_test_scaled)\n",
    "print('linearSVM score', linearsvm.score(bx_test_scaled, by_test))\n",
    "\n",
    "polysvm = BaggingClassifier(svm.SVC(kernel='poly'), random_state = 88,max_samples=1.0 / n_estimators, n_estimators=n_estimators)\n",
    "polysvm.fit(bx_train_scaled, by_train)\n",
    "y_pred_polySVM = polysvm.predict(bx_test_scaled)\n",
    "print('polySVM score', polysvm.score(bx_test_scaled, by_test))\n",
    "\n",
    "rbfsvm = BaggingClassifier(svm.SVC(kernel='rbf'), random_state = 88,max_samples=1.0 / n_estimators, n_estimators=n_estimators)\n",
    "rbfsvm.fit(bx_train_scaled, by_train)\n",
    "y_pred_rbfSVM = rbfsvm.predict(bx_test_scaled)\n",
    "print('rbfSVM score', rbfsvm.score(bx_test_scaled, by_test))\n",
    "\n",
    "sigmoidsvm = BaggingClassifier(svm.SVC(kernel='sigmoid'), random_state = 88,max_samples=1.0 / n_estimators, n_estimators=n_estimators)\n",
    "sigmoidsvm.fit(bx_train_scaled, by_train)\n",
    "y_pred_sigmoidSVM = sigmoidsvm.predict(bx_test_scaled)\n",
    "print('sigmoidSVM score', sigmoidsvm.score(bx_test_scaled, by_test))"
   ]
  },
  {
   "cell_type": "code",
   "execution_count": 51,
   "id": "fbf5a4a5",
   "metadata": {},
   "outputs": [
    {
     "name": "stdout",
     "output_type": "stream",
     "text": [
      "Best hyper parameters: {'base_estimator__C': 1000, 'base_estimator__gamma': 1} Score 0.8616918555230513\n"
     ]
    }
   ],
   "source": [
    "from sklearn.model_selection import RandomizedSearchCV, GridSearchCV\n",
    "from sklearn import svm\n",
    "\n",
    "param_grid = {\n",
    "    'base_estimator__C': [0.1,1, 10, 100, 1000], \n",
    "    'base_estimator__gamma': [1,0.1,0.01,0.001, 0.0001],\n",
    "}\n",
    "\n",
    "\n",
    "svm = svm.SVC(kernel = 'poly')\n",
    "\n",
    "bagging_svm = BaggingClassifier(svm, random_state = 88,max_samples=1.0 / n_estimators, n_estimators=n_estimators)\n",
    "\n",
    "grid_search = GridSearchCV(\n",
    "    bagging_svm,\n",
    "    param_grid=param_grid,\n",
    "    scoring = 'f1'\n",
    ")\n",
    "\n",
    "grid_search.fit(bx_train_scaled, by_train)\n",
    "\n",
    "\n",
    "print('Best hyper parameters:', grid_search.best_params_, 'Score', grid_search.best_score_)"
   ]
  },
  {
   "cell_type": "code",
   "execution_count": 52,
   "id": "1970e9d1",
   "metadata": {},
   "outputs": [
    {
     "name": "stdout",
     "output_type": "stream",
     "text": [
      "polySVM score 0.8717186726102031\n"
     ]
    }
   ],
   "source": [
    "from sklearn import svm\n",
    "\n",
    "polysvm = BaggingClassifier(svm.SVC(kernel='poly', gamma = 1, C = 1000 ), random_state = 88,max_samples=1.0 / n_estimators, n_estimators=n_estimators, )\n",
    "polysvm.fit(bx_train_scaled, by_train)\n",
    "y_pred_SVM = polysvm.predict(bx_test_scaled)\n",
    "print('polySVM score', polysvm.score(bx_test_scaled, by_test))\n"
   ]
  },
  {
   "cell_type": "code",
   "execution_count": 53,
   "id": "dad73f50",
   "metadata": {},
   "outputs": [
    {
     "name": "stdout",
     "output_type": "stream",
     "text": [
      "SVM model accuracy: 0.8717186726102031\n",
      "SVM model precision: 0.810207336523126\n",
      "SVM model recall: 0.9797492767598843\n",
      "SVM model f1: 0.8869489305979923\n"
     ]
    }
   ],
   "source": [
    "from sklearn import metrics\n",
    "\n",
    "SVM_accuracy = metrics.accuracy_score(by_test, y_pred_SVM)\n",
    "print(\"SVM model accuracy:\", SVM_accuracy)\n",
    "\n",
    "SVM_precision = metrics.precision_score(by_test, y_pred_SVM)\n",
    "print(\"SVM model precision:\", SVM_precision)\n",
    "\n",
    "SVM_recall = metrics.recall_score(by_test, y_pred_SVM)\n",
    "print(\"SVM model recall:\", SVM_recall)\n",
    "\n",
    "SVM_f1_score = metrics.f1_score(by_test, y_pred_SVM)\n",
    "print(\"SVM model f1:\", SVM_f1_score)"
   ]
  },
  {
   "cell_type": "markdown",
   "id": "802dbabe",
   "metadata": {},
   "source": [
    "## Logistic Regression"
   ]
  },
  {
   "cell_type": "code",
   "execution_count": 30,
   "id": "95fae12e",
   "metadata": {},
   "outputs": [],
   "source": [
    "x_train, x_test, y_train, y_test = train_test_split(df.iloc[:,1:-1],df['stroke'],test_size = 0.3, random_state = 88)"
   ]
  },
  {
   "cell_type": "code",
   "execution_count": 47,
   "id": "ec97fbdc",
   "metadata": {},
   "outputs": [
    {
     "name": "stdout",
     "output_type": "stream",
     "text": [
      "Best hyper parameters: {'class_weight': {0: 0.11442211055276383, 1: 0.8855778894472361}} Score 0.2887040145992918\n"
     ]
    }
   ],
   "source": [
    "from sklearn.linear_model import LogisticRegression\n",
    "import numpy as np\n",
    "\n",
    "weights = np.linspace(0.0,0.99,200)\n",
    "param_grid = {'class_weight': [{0:x, 1:1.0-x} for x in weights]}\n",
    "\n",
    "grid_search = GridSearchCV(\n",
    "    LogisticRegression(random_state = 88),\n",
    "    param_grid=param_grid,\n",
    "    scoring = 'f1'\n",
    ")\n",
    "\n",
    "\n",
    "grid_search.fit(x_train, y_train)\n",
    "\n",
    "\n",
    "print('Best hyper parameters:', grid_search.best_params_, 'Score', grid_search.best_score_)\n"
   ]
  },
  {
   "cell_type": "code",
   "execution_count": 48,
   "id": "38631041",
   "metadata": {},
   "outputs": [],
   "source": [
    "\n",
    "logreg = LogisticRegression(random_state = 88,  class_weight={0: 0.11442211055276383, 1: 0.8855778894472361})\n",
    "logreg.fit(x_train, y_train)\n",
    "\n",
    "y_pred_logreg = logreg.predict(x_test)\n"
   ]
  },
  {
   "cell_type": "code",
   "execution_count": 49,
   "id": "e9527e02",
   "metadata": {},
   "outputs": [
    {
     "name": "stdout",
     "output_type": "stream",
     "text": [
      "LR model accuracy: 0.8383177570093457\n",
      "LR model precision: 0.18181818181818182\n",
      "LR model recall: 0.6296296296296297\n",
      "LR model f1: 0.28215767634854777\n"
     ]
    }
   ],
   "source": [
    "LR_accuracy = metrics.accuracy_score(y_test, y_pred_logreg)\n",
    "print(\"LR model accuracy:\", LR_accuracy)\n",
    "\n",
    "LR_precision = metrics.precision_score(y_test, y_pred_logreg)\n",
    "print(\"LR model precision:\", LR_precision)\n",
    "\n",
    "LR_recall = metrics.recall_score(y_test, y_pred_logreg)\n",
    "print(\"LR model recall:\", LR_recall)\n",
    "\n",
    "LR_f1_score = metrics.f1_score(y_test, y_pred_logreg)\n",
    "print(\"LR model f1:\", LR_f1_score)"
   ]
  },
  {
   "cell_type": "code",
   "execution_count": 87,
   "id": "b0348279",
   "metadata": {},
   "outputs": [
    {
     "name": "stdout",
     "output_type": "stream",
     "text": [
      "[-0.22877774  1.1940948   0.65194558  0.49555629  0.02876236  0.02375774\n",
      "  0.21599779  0.11090093  0.00372022  0.05996908]\n",
      "Feature : gender Score: -0.228778\n",
      "Feature : age Score: 1.194095\n",
      "Feature : hypertension Score: 0.651946\n",
      "Feature : heart_disease Score: 0.495556\n",
      "Feature : ever_married Score: 0.028762\n",
      "Feature : work_type Score: 0.023758\n",
      "Feature : Residence_type Score: 0.215998\n",
      "Feature : avg_glucose_level Score: 0.110901\n",
      "Feature : bmi Score: 0.003720\n",
      "Feature : smoking_status Score: 0.059969\n"
     ]
    },
    {
     "data": {
      "image/png": "[encoded data removed]",
      "text/plain": [
       "<Figure size 432x288 with 1 Axes>"
      ]
     },
     "metadata": {
      "needs_background": "light"
     },
     "output_type": "display_data"
    }
   ],
   "source": [
    "from matplotlib import pyplot\n",
    "\n",
    "LR_importances = logreg.coef_[0]\n",
    "print(LR_importances)\n",
    "for i,v in enumerate(LR_importances):\n",
    " print('Feature : %s Score: %f' % (list(df.columns)[1:-1][i], v))\n",
    "# plot feature importance\n",
    "pyplot.xticks(rotation = 60) \n",
    "pyplot.bar(list(df.columns)[1:-1], LR_importances)\n",
    "pyplot.show()"
   ]
  },
  {
   "cell_type": "markdown",
   "id": "e7061783",
   "metadata": {},
   "source": [
    "#### age is the largest contributor to determining stroke status"
   ]
  },
  {
   "cell_type": "code",
   "execution_count": null,
   "id": "d5d79c4f",
   "metadata": {},
   "outputs": [],
   "source": []
  }
 ],
 "metadata": {
  "kernelspec": {
   "display_name": "Python 3 (ipykernel)",
   "language": "python",
   "name": "python3"
  },
  "language_info": {
   "codemirror_mode": {
    "name": "ipython",
    "version": 3
   },
   "file_extension": ".py",
   "mimetype": "text/x-python",
   "name": "python",
   "nbconvert_exporter": "python",
   "pygments_lexer": "ipython3",
   "version": "3.9.12"
  }
 },
 "nbformat": 4,
 "nbformat_minor": 5
}
