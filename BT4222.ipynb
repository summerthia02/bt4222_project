{
 "cells": [
  {
   "cell_type": "code",
   "execution_count": 11,
   "id": "1192979d",
   "metadata": {},
   "outputs": [],
   "source": [
    "import numpy as np # linear algebra\n",
    "import pandas as pd # data processing, CSV file I/O (e.g. pd.read_csv)\n",
    "import seaborn as sns\n",
    "import sklearn\n",
    "\n",
    "import matplotlib.pyplot as plt\n",
    "import warnings\n",
    "warnings.filterwarnings('ignore')\n"
   ]
  },
  {
   "cell_type": "code",
   "execution_count": 12,
   "id": "ca74e377",
   "metadata": {},
   "outputs": [],
   "source": [
    "df = pd.read_csv('stroke.csv')"
   ]
  },
  {
   "cell_type": "code",
   "execution_count": 13,
   "id": "9570590b",
   "metadata": {},
   "outputs": [
    {
     "data": {
      "text/html": [
       "<div>\n",
       "<style scoped>\n",
       "    .dataframe tbody tr th:only-of-type {\n",
       "        vertical-align: middle;\n",
       "    }\n",
       "\n",
       "    .dataframe tbody tr th {\n",
       "        vertical-align: top;\n",
       "    }\n",
       "\n",
       "    .dataframe thead th {\n",
       "        text-align: right;\n",
       "    }\n",
       "</style>\n",
       "<table border=\"1\" class=\"dataframe\">\n",
       "  <thead>\n",
       "    <tr style=\"text-align: right;\">\n",
       "      <th></th>\n",
       "      <th>id</th>\n",
       "      <th>gender</th>\n",
       "      <th>age</th>\n",
       "      <th>hypertension</th>\n",
       "      <th>heart_disease</th>\n",
       "      <th>ever_married</th>\n",
       "      <th>work_type</th>\n",
       "      <th>Residence_type</th>\n",
       "      <th>avg_glucose_level</th>\n",
       "      <th>bmi</th>\n",
       "      <th>smoking_status</th>\n",
       "      <th>stroke</th>\n",
       "    </tr>\n",
       "  </thead>\n",
       "  <tbody>\n",
       "    <tr>\n",
       "      <th>0</th>\n",
       "      <td>9046</td>\n",
       "      <td>Male</td>\n",
       "      <td>67.0</td>\n",
       "      <td>0</td>\n",
       "      <td>1</td>\n",
       "      <td>Yes</td>\n",
       "      <td>Private</td>\n",
       "      <td>Urban</td>\n",
       "      <td>228.69</td>\n",
       "      <td>36.6</td>\n",
       "      <td>formerly smoked</td>\n",
       "      <td>1</td>\n",
       "    </tr>\n",
       "    <tr>\n",
       "      <th>1</th>\n",
       "      <td>51676</td>\n",
       "      <td>Female</td>\n",
       "      <td>61.0</td>\n",
       "      <td>0</td>\n",
       "      <td>0</td>\n",
       "      <td>Yes</td>\n",
       "      <td>Self-employed</td>\n",
       "      <td>Rural</td>\n",
       "      <td>202.21</td>\n",
       "      <td>NaN</td>\n",
       "      <td>never smoked</td>\n",
       "      <td>1</td>\n",
       "    </tr>\n",
       "    <tr>\n",
       "      <th>2</th>\n",
       "      <td>31112</td>\n",
       "      <td>Male</td>\n",
       "      <td>80.0</td>\n",
       "      <td>0</td>\n",
       "      <td>1</td>\n",
       "      <td>Yes</td>\n",
       "      <td>Private</td>\n",
       "      <td>Rural</td>\n",
       "      <td>105.92</td>\n",
       "      <td>32.5</td>\n",
       "      <td>never smoked</td>\n",
       "      <td>1</td>\n",
       "    </tr>\n",
       "    <tr>\n",
       "      <th>3</th>\n",
       "      <td>60182</td>\n",
       "      <td>Female</td>\n",
       "      <td>49.0</td>\n",
       "      <td>0</td>\n",
       "      <td>0</td>\n",
       "      <td>Yes</td>\n",
       "      <td>Private</td>\n",
       "      <td>Urban</td>\n",
       "      <td>171.23</td>\n",
       "      <td>34.4</td>\n",
       "      <td>smokes</td>\n",
       "      <td>1</td>\n",
       "    </tr>\n",
       "    <tr>\n",
       "      <th>4</th>\n",
       "      <td>1665</td>\n",
       "      <td>Female</td>\n",
       "      <td>79.0</td>\n",
       "      <td>1</td>\n",
       "      <td>0</td>\n",
       "      <td>Yes</td>\n",
       "      <td>Self-employed</td>\n",
       "      <td>Rural</td>\n",
       "      <td>174.12</td>\n",
       "      <td>24.0</td>\n",
       "      <td>never smoked</td>\n",
       "      <td>1</td>\n",
       "    </tr>\n",
       "  </tbody>\n",
       "</table>\n",
       "</div>"
      ],
      "text/plain": [
       "      id  gender   age  hypertension  heart_disease ever_married  \\\n",
       "0   9046    Male  67.0             0              1          Yes   \n",
       "1  51676  Female  61.0             0              0          Yes   \n",
       "2  31112    Male  80.0             0              1          Yes   \n",
       "3  60182  Female  49.0             0              0          Yes   \n",
       "4   1665  Female  79.0             1              0          Yes   \n",
       "\n",
       "       work_type Residence_type  avg_glucose_level   bmi   smoking_status  \\\n",
       "0        Private          Urban             228.69  36.6  formerly smoked   \n",
       "1  Self-employed          Rural             202.21   NaN     never smoked   \n",
       "2        Private          Rural             105.92  32.5     never smoked   \n",
       "3        Private          Urban             171.23  34.4           smokes   \n",
       "4  Self-employed          Rural             174.12  24.0     never smoked   \n",
       "\n",
       "   stroke  \n",
       "0       1  \n",
       "1       1  \n",
       "2       1  \n",
       "3       1  \n",
       "4       1  "
      ]
     },
     "execution_count": 13,
     "metadata": {},
     "output_type": "execute_result"
    }
   ],
   "source": [
    "df.head()\n"
   ]
  },
  {
   "cell_type": "code",
   "execution_count": 14,
   "id": "1a14c5f8",
   "metadata": {},
   "outputs": [],
   "source": [
    "df.drop('id',axis=1,inplace=True)"
   ]
  },
  {
   "cell_type": "code",
   "execution_count": 15,
   "id": "769d13b0",
   "metadata": {},
   "outputs": [
    {
     "data": {
      "text/html": [
       "<div>\n",
       "<style scoped>\n",
       "    .dataframe tbody tr th:only-of-type {\n",
       "        vertical-align: middle;\n",
       "    }\n",
       "\n",
       "    .dataframe tbody tr th {\n",
       "        vertical-align: top;\n",
       "    }\n",
       "\n",
       "    .dataframe thead th {\n",
       "        text-align: right;\n",
       "    }\n",
       "</style>\n",
       "<table border=\"1\" class=\"dataframe\">\n",
       "  <thead>\n",
       "    <tr style=\"text-align: right;\">\n",
       "      <th></th>\n",
       "      <th>age</th>\n",
       "      <th>hypertension</th>\n",
       "      <th>heart_disease</th>\n",
       "      <th>avg_glucose_level</th>\n",
       "      <th>bmi</th>\n",
       "      <th>stroke</th>\n",
       "    </tr>\n",
       "  </thead>\n",
       "  <tbody>\n",
       "    <tr>\n",
       "      <th>count</th>\n",
       "      <td>5110.000000</td>\n",
       "      <td>5110.000000</td>\n",
       "      <td>5110.000000</td>\n",
       "      <td>5110.000000</td>\n",
       "      <td>4909.000000</td>\n",
       "      <td>5110.000000</td>\n",
       "    </tr>\n",
       "    <tr>\n",
       "      <th>mean</th>\n",
       "      <td>43.226614</td>\n",
       "      <td>0.097456</td>\n",
       "      <td>0.054012</td>\n",
       "      <td>106.147677</td>\n",
       "      <td>28.893237</td>\n",
       "      <td>0.048728</td>\n",
       "    </tr>\n",
       "    <tr>\n",
       "      <th>std</th>\n",
       "      <td>22.612647</td>\n",
       "      <td>0.296607</td>\n",
       "      <td>0.226063</td>\n",
       "      <td>45.283560</td>\n",
       "      <td>7.854067</td>\n",
       "      <td>0.215320</td>\n",
       "    </tr>\n",
       "    <tr>\n",
       "      <th>min</th>\n",
       "      <td>0.080000</td>\n",
       "      <td>0.000000</td>\n",
       "      <td>0.000000</td>\n",
       "      <td>55.120000</td>\n",
       "      <td>10.300000</td>\n",
       "      <td>0.000000</td>\n",
       "    </tr>\n",
       "    <tr>\n",
       "      <th>25%</th>\n",
       "      <td>25.000000</td>\n",
       "      <td>0.000000</td>\n",
       "      <td>0.000000</td>\n",
       "      <td>77.245000</td>\n",
       "      <td>23.500000</td>\n",
       "      <td>0.000000</td>\n",
       "    </tr>\n",
       "    <tr>\n",
       "      <th>50%</th>\n",
       "      <td>45.000000</td>\n",
       "      <td>0.000000</td>\n",
       "      <td>0.000000</td>\n",
       "      <td>91.885000</td>\n",
       "      <td>28.100000</td>\n",
       "      <td>0.000000</td>\n",
       "    </tr>\n",
       "    <tr>\n",
       "      <th>75%</th>\n",
       "      <td>61.000000</td>\n",
       "      <td>0.000000</td>\n",
       "      <td>0.000000</td>\n",
       "      <td>114.090000</td>\n",
       "      <td>33.100000</td>\n",
       "      <td>0.000000</td>\n",
       "    </tr>\n",
       "    <tr>\n",
       "      <th>max</th>\n",
       "      <td>82.000000</td>\n",
       "      <td>1.000000</td>\n",
       "      <td>1.000000</td>\n",
       "      <td>271.740000</td>\n",
       "      <td>97.600000</td>\n",
       "      <td>1.000000</td>\n",
       "    </tr>\n",
       "  </tbody>\n",
       "</table>\n",
       "</div>"
      ],
      "text/plain": [
       "               age  hypertension  heart_disease  avg_glucose_level  \\\n",
       "count  5110.000000   5110.000000    5110.000000        5110.000000   \n",
       "mean     43.226614      0.097456       0.054012         106.147677   \n",
       "std      22.612647      0.296607       0.226063          45.283560   \n",
       "min       0.080000      0.000000       0.000000          55.120000   \n",
       "25%      25.000000      0.000000       0.000000          77.245000   \n",
       "50%      45.000000      0.000000       0.000000          91.885000   \n",
       "75%      61.000000      0.000000       0.000000         114.090000   \n",
       "max      82.000000      1.000000       1.000000         271.740000   \n",
       "\n",
       "               bmi       stroke  \n",
       "count  4909.000000  5110.000000  \n",
       "mean     28.893237     0.048728  \n",
       "std       7.854067     0.215320  \n",
       "min      10.300000     0.000000  \n",
       "25%      23.500000     0.000000  \n",
       "50%      28.100000     0.000000  \n",
       "75%      33.100000     0.000000  \n",
       "max      97.600000     1.000000  "
      ]
     },
     "execution_count": 15,
     "metadata": {},
     "output_type": "execute_result"
    }
   ],
   "source": [
    "df.describe()"
   ]
  },
  {
   "cell_type": "code",
   "execution_count": 16,
   "id": "4d057910",
   "metadata": {},
   "outputs": [
    {
     "data": {
      "text/plain": [
       "gender                 0\n",
       "age                    0\n",
       "hypertension           0\n",
       "heart_disease          0\n",
       "ever_married           0\n",
       "work_type              0\n",
       "Residence_type         0\n",
       "avg_glucose_level      0\n",
       "bmi                  201\n",
       "smoking_status         0\n",
       "stroke                 0\n",
       "dtype: int64"
      ]
     },
     "execution_count": 16,
     "metadata": {},
     "output_type": "execute_result"
    }
   ],
   "source": [
    "df.isnull().sum()"
   ]
  },
  {
   "cell_type": "code",
   "execution_count": 17,
   "id": "35e3ffd6",
   "metadata": {},
   "outputs": [
    {
     "data": {
      "text/plain": [
       "gender                object\n",
       "age                  float64\n",
       "hypertension           int64\n",
       "heart_disease          int64\n",
       "ever_married          object\n",
       "work_type             object\n",
       "Residence_type        object\n",
       "avg_glucose_level    float64\n",
       "bmi                  float64\n",
       "smoking_status        object\n",
       "stroke                 int64\n",
       "dtype: object"
      ]
     },
     "execution_count": 17,
     "metadata": {},
     "output_type": "execute_result"
    }
   ],
   "source": [
    "df.dtypes"
   ]
  },
  {
   "cell_type": "code",
   "execution_count": 18,
   "id": "732d15b7",
   "metadata": {},
   "outputs": [],
   "source": [
    "df_continuous = df[['age', 'avg_glucose_level', 'bmi']]"
   ]
  },
  {
   "cell_type": "code",
   "execution_count": 19,
   "id": "0c1da189",
   "metadata": {},
   "outputs": [
    {
     "data": {
      "image/png": "[encoded data removed]",
      "text/plain": [
       "<Figure size 640x480 with 2 Axes>"
      ]
     },
     "metadata": {},
     "output_type": "display_data"
    }
   ],
   "source": [
    "sns.heatmap(df_continuous.corr(), annot=True)\n",
    "plt.title('Correlation Heatmap')\n",
    "plt.show()"
   ]
  },
  {
   "cell_type": "code",
   "execution_count": 20,
   "id": "7e2dc16b",
   "metadata": {},
   "outputs": [
    {
     "data": {
      "image/png": "[encoded data removed]",
      "text/plain": [
       "<Figure size 640x480 with 1 Axes>"
      ]
     },
     "metadata": {},
     "output_type": "display_data"
    },
    {
     "data": {
      "image/png": "[encoded data removed]",
      "text/plain": [
       "<Figure size 500x500 with 1 Axes>"
      ]
     },
     "metadata": {},
     "output_type": "display_data"
    },
    {
     "data": {
      "image/png": "[encoded data removed]",
      "text/plain": [
       "<Figure size 500x500 with 1 Axes>"
      ]
     },
     "metadata": {},
     "output_type": "display_data"
    },
    {
     "data": {
      "image/png": "[encoded data removed]",
      "text/plain": [
       "<Figure size 500x500 with 1 Axes>"
      ]
     },
     "metadata": {},
     "output_type": "display_data"
    },
    {
     "data": {
      "image/png": "[encoded data removed]",
      "text/plain": [
       "<Figure size 640x480 with 1 Axes>"
      ]
     },
     "metadata": {},
     "output_type": "display_data"
    },
    {
     "data": {
      "image/png": "[encoded data removed]",
      "text/plain": [
       "<Figure size 640x480 with 1 Axes>"
      ]
     },
     "metadata": {},
     "output_type": "display_data"
    },
    {
     "data": {
      "image/png": "[encoded data removed]",
      "text/plain": [
       "<Figure size 640x480 with 1 Axes>"
      ]
     },
     "metadata": {},
     "output_type": "display_data"
    },
    {
     "data": {
      "image/png": "[encoded data removed]",
      "text/plain": [
       "<Figure size 500x500 with 1 Axes>"
      ]
     },
     "metadata": {},
     "output_type": "display_data"
    },
    {
     "data": {
      "image/png": "[encoded data removed]",
      "text/plain": [
       "<Figure size 500x500 with 1 Axes>"
      ]
     },
     "metadata": {},
     "output_type": "display_data"
    },
    {
     "data": {
      "image/png": "[encoded data removed]",
      "text/plain": [
       "<Figure size 640x480 with 1 Axes>"
      ]
     },
     "metadata": {},
     "output_type": "display_data"
    }
   ],
   "source": [
    "for column in df.columns:\n",
    "    if column != 'stroke':\n",
    "        if df[column].dtype != 'O':\n",
    "            sns.displot(df[column], kde=False, bins=10)\n",
    "            plt.title(f'Distribution of {column}')\n",
    "            plt.show()\n",
    "        else:\n",
    "            sns.countplot(data=df, x=column)\n",
    "            plt.title(f'Count of {column}')\n",
    "            plt.show()"
   ]
  },
  {
   "cell_type": "code",
   "execution_count": 21,
   "id": "d11ed1a7",
   "metadata": {},
   "outputs": [
    {
     "name": "stdout",
     "output_type": "stream",
     "text": [
      "The number of rows where the gender is Other is 1\n"
     ]
    }
   ],
   "source": [
    "num_other_gender = df[df['gender'] == 'Other'].shape[0]\n",
    "\n",
    "# Print the number of rows where the gender is 'Other'\n",
    "print(f'The number of rows where the gender is Other is {num_other_gender}')\n",
    "\n",
    "\n"
   ]
  },
  {
   "cell_type": "code",
   "execution_count": 22,
   "id": "76d62584",
   "metadata": {},
   "outputs": [],
   "source": [
    "#remove gender = other \n",
    "df =df[df['gender'] != 'Other']"
   ]
  },
  {
   "cell_type": "code",
   "execution_count": 23,
   "id": "5122db64",
   "metadata": {},
   "outputs": [],
   "source": [
    "# Calculate the mean of non-NaN values in the bmi column\n",
    "bmi_mean = df['bmi'].mean()\n",
    "\n",
    "# Fill the NaN values in the bmi column with the mean value\n",
    "df['bmi'].fillna(bmi_mean, inplace=True)"
   ]
  },
  {
   "cell_type": "code",
   "execution_count": 24,
   "id": "04474499",
   "metadata": {},
   "outputs": [
    {
     "data": {
      "image/png": "[encoded data removed]",
      "text/plain": [
       "<Figure size 640x480 with 1 Axes>"
      ]
     },
     "metadata": {},
     "output_type": "display_data"
    }
   ],
   "source": [
    "# Plot a pie chart of stroke values before removing unknown smokers\n",
    "stroke_counts = df['stroke'].value_counts()\n",
    "plt.pie(stroke_counts, labels=['No Stroke', 'Stroke'], autopct='%1.1f%%')\n",
    "plt.title('Stroke Value Counts')\n",
    "plt.show()"
   ]
  },
  {
   "cell_type": "code",
   "execution_count": 25,
   "id": "566dda88",
   "metadata": {},
   "outputs": [
    {
     "data": {
      "image/png": "[encoded data removed]",
      "text/plain": [
       "<Figure size 640x480 with 1 Axes>"
      ]
     },
     "metadata": {},
     "output_type": "display_data"
    }
   ],
   "source": [
    "# Removing unknown smokers\n",
    "df= df[df['smoking_status'] != 'Unknown']\n",
    "stroke_counts = df['stroke'].value_counts()\n",
    "\n",
    "# Plot a pie chart of stroke values\n",
    "plt.pie(stroke_counts, labels=['No Stroke', 'Stroke'], autopct='%1.1f%%')\n",
    "plt.title('Stroke Value Counts')\n",
    "plt.show()"
   ]
  },
  {
   "cell_type": "code",
   "execution_count": 26,
   "id": "e96eab08",
   "metadata": {},
   "outputs": [],
   "source": [
    "from sklearn.preprocessing import LabelEncoder\n",
    "le = LabelEncoder()\n",
    "cols = ['gender','ever_married','work_type','Residence_type','smoking_status'] \n",
    "df[cols] = df[cols].apply(le.fit_transform)"
   ]
  },
  {
   "cell_type": "code",
   "execution_count": 27,
   "id": "2bba6926",
   "metadata": {},
   "outputs": [
    {
     "data": {
      "text/html": [
       "<div>\n",
       "<style scoped>\n",
       "    .dataframe tbody tr th:only-of-type {\n",
       "        vertical-align: middle;\n",
       "    }\n",
       "\n",
       "    .dataframe tbody tr th {\n",
       "        vertical-align: top;\n",
       "    }\n",
       "\n",
       "    .dataframe thead th {\n",
       "        text-align: right;\n",
       "    }\n",
       "</style>\n",
       "<table border=\"1\" class=\"dataframe\">\n",
       "  <thead>\n",
       "    <tr style=\"text-align: right;\">\n",
       "      <th></th>\n",
       "      <th>gender</th>\n",
       "      <th>age</th>\n",
       "      <th>hypertension</th>\n",
       "      <th>heart_disease</th>\n",
       "      <th>ever_married</th>\n",
       "      <th>work_type</th>\n",
       "      <th>Residence_type</th>\n",
       "      <th>avg_glucose_level</th>\n",
       "      <th>bmi</th>\n",
       "      <th>smoking_status</th>\n",
       "      <th>stroke</th>\n",
       "    </tr>\n",
       "  </thead>\n",
       "  <tbody>\n",
       "    <tr>\n",
       "      <th>0</th>\n",
       "      <td>1</td>\n",
       "      <td>67.0</td>\n",
       "      <td>0</td>\n",
       "      <td>1</td>\n",
       "      <td>1</td>\n",
       "      <td>2</td>\n",
       "      <td>1</td>\n",
       "      <td>228.69</td>\n",
       "      <td>36.60000</td>\n",
       "      <td>0</td>\n",
       "      <td>1</td>\n",
       "    </tr>\n",
       "    <tr>\n",
       "      <th>1</th>\n",
       "      <td>0</td>\n",
       "      <td>61.0</td>\n",
       "      <td>0</td>\n",
       "      <td>0</td>\n",
       "      <td>1</td>\n",
       "      <td>3</td>\n",
       "      <td>0</td>\n",
       "      <td>202.21</td>\n",
       "      <td>28.89456</td>\n",
       "      <td>1</td>\n",
       "      <td>1</td>\n",
       "    </tr>\n",
       "    <tr>\n",
       "      <th>2</th>\n",
       "      <td>1</td>\n",
       "      <td>80.0</td>\n",
       "      <td>0</td>\n",
       "      <td>1</td>\n",
       "      <td>1</td>\n",
       "      <td>2</td>\n",
       "      <td>0</td>\n",
       "      <td>105.92</td>\n",
       "      <td>32.50000</td>\n",
       "      <td>1</td>\n",
       "      <td>1</td>\n",
       "    </tr>\n",
       "    <tr>\n",
       "      <th>3</th>\n",
       "      <td>0</td>\n",
       "      <td>49.0</td>\n",
       "      <td>0</td>\n",
       "      <td>0</td>\n",
       "      <td>1</td>\n",
       "      <td>2</td>\n",
       "      <td>1</td>\n",
       "      <td>171.23</td>\n",
       "      <td>34.40000</td>\n",
       "      <td>2</td>\n",
       "      <td>1</td>\n",
       "    </tr>\n",
       "    <tr>\n",
       "      <th>4</th>\n",
       "      <td>0</td>\n",
       "      <td>79.0</td>\n",
       "      <td>1</td>\n",
       "      <td>0</td>\n",
       "      <td>1</td>\n",
       "      <td>3</td>\n",
       "      <td>0</td>\n",
       "      <td>174.12</td>\n",
       "      <td>24.00000</td>\n",
       "      <td>1</td>\n",
       "      <td>1</td>\n",
       "    </tr>\n",
       "    <tr>\n",
       "      <th>...</th>\n",
       "      <td>...</td>\n",
       "      <td>...</td>\n",
       "      <td>...</td>\n",
       "      <td>...</td>\n",
       "      <td>...</td>\n",
       "      <td>...</td>\n",
       "      <td>...</td>\n",
       "      <td>...</td>\n",
       "      <td>...</td>\n",
       "      <td>...</td>\n",
       "      <td>...</td>\n",
       "    </tr>\n",
       "    <tr>\n",
       "      <th>5102</th>\n",
       "      <td>0</td>\n",
       "      <td>57.0</td>\n",
       "      <td>0</td>\n",
       "      <td>0</td>\n",
       "      <td>1</td>\n",
       "      <td>2</td>\n",
       "      <td>0</td>\n",
       "      <td>77.93</td>\n",
       "      <td>21.70000</td>\n",
       "      <td>1</td>\n",
       "      <td>0</td>\n",
       "    </tr>\n",
       "    <tr>\n",
       "      <th>5105</th>\n",
       "      <td>0</td>\n",
       "      <td>80.0</td>\n",
       "      <td>1</td>\n",
       "      <td>0</td>\n",
       "      <td>1</td>\n",
       "      <td>2</td>\n",
       "      <td>1</td>\n",
       "      <td>83.75</td>\n",
       "      <td>28.89456</td>\n",
       "      <td>1</td>\n",
       "      <td>0</td>\n",
       "    </tr>\n",
       "    <tr>\n",
       "      <th>5106</th>\n",
       "      <td>0</td>\n",
       "      <td>81.0</td>\n",
       "      <td>0</td>\n",
       "      <td>0</td>\n",
       "      <td>1</td>\n",
       "      <td>3</td>\n",
       "      <td>1</td>\n",
       "      <td>125.20</td>\n",
       "      <td>40.00000</td>\n",
       "      <td>1</td>\n",
       "      <td>0</td>\n",
       "    </tr>\n",
       "    <tr>\n",
       "      <th>5107</th>\n",
       "      <td>0</td>\n",
       "      <td>35.0</td>\n",
       "      <td>0</td>\n",
       "      <td>0</td>\n",
       "      <td>1</td>\n",
       "      <td>3</td>\n",
       "      <td>0</td>\n",
       "      <td>82.99</td>\n",
       "      <td>30.60000</td>\n",
       "      <td>1</td>\n",
       "      <td>0</td>\n",
       "    </tr>\n",
       "    <tr>\n",
       "      <th>5108</th>\n",
       "      <td>1</td>\n",
       "      <td>51.0</td>\n",
       "      <td>0</td>\n",
       "      <td>0</td>\n",
       "      <td>1</td>\n",
       "      <td>2</td>\n",
       "      <td>0</td>\n",
       "      <td>166.29</td>\n",
       "      <td>25.60000</td>\n",
       "      <td>0</td>\n",
       "      <td>0</td>\n",
       "    </tr>\n",
       "  </tbody>\n",
       "</table>\n",
       "<p>3565 rows × 11 columns</p>\n",
       "</div>"
      ],
      "text/plain": [
       "      gender   age  hypertension  heart_disease  ever_married  work_type  \\\n",
       "0          1  67.0             0              1             1          2   \n",
       "1          0  61.0             0              0             1          3   \n",
       "2          1  80.0             0              1             1          2   \n",
       "3          0  49.0             0              0             1          2   \n",
       "4          0  79.0             1              0             1          3   \n",
       "...      ...   ...           ...            ...           ...        ...   \n",
       "5102       0  57.0             0              0             1          2   \n",
       "5105       0  80.0             1              0             1          2   \n",
       "5106       0  81.0             0              0             1          3   \n",
       "5107       0  35.0             0              0             1          3   \n",
       "5108       1  51.0             0              0             1          2   \n",
       "\n",
       "      Residence_type  avg_glucose_level       bmi  smoking_status  stroke  \n",
       "0                  1             228.69  36.60000               0       1  \n",
       "1                  0             202.21  28.89456               1       1  \n",
       "2                  0             105.92  32.50000               1       1  \n",
       "3                  1             171.23  34.40000               2       1  \n",
       "4                  0             174.12  24.00000               1       1  \n",
       "...              ...                ...       ...             ...     ...  \n",
       "5102               0              77.93  21.70000               1       0  \n",
       "5105               1              83.75  28.89456               1       0  \n",
       "5106               1             125.20  40.00000               1       0  \n",
       "5107               0              82.99  30.60000               1       0  \n",
       "5108               0             166.29  25.60000               0       0  \n",
       "\n",
       "[3565 rows x 11 columns]"
      ]
     },
     "execution_count": 27,
     "metadata": {},
     "output_type": "execute_result"
    }
   ],
   "source": [
    "df"
   ]
  },
  {
   "cell_type": "code",
   "execution_count": 28,
   "id": "4deed637",
   "metadata": {},
   "outputs": [],
   "source": [
    "#Performing standardization on continuous variables\n",
    "from sklearn.preprocessing import StandardScaler\n",
    "\n",
    "# Fit the StandardScaler to the training data\n",
    "scaler = StandardScaler()\n",
    "df[['age', 'avg_glucose_level', 'bmi']] = scaler.fit_transform(df[['age', 'avg_glucose_level', 'bmi']])"
   ]
  },
  {
   "cell_type": "code",
   "execution_count": 29,
   "id": "68cfb62c",
   "metadata": {},
   "outputs": [
    {
     "data": {
      "text/html": [
       "<div>\n",
       "<style scoped>\n",
       "    .dataframe tbody tr th:only-of-type {\n",
       "        vertical-align: middle;\n",
       "    }\n",
       "\n",
       "    .dataframe tbody tr th {\n",
       "        vertical-align: top;\n",
       "    }\n",
       "\n",
       "    .dataframe thead th {\n",
       "        text-align: right;\n",
       "    }\n",
       "</style>\n",
       "<table border=\"1\" class=\"dataframe\">\n",
       "  <thead>\n",
       "    <tr style=\"text-align: right;\">\n",
       "      <th></th>\n",
       "      <th>gender</th>\n",
       "      <th>age</th>\n",
       "      <th>hypertension</th>\n",
       "      <th>heart_disease</th>\n",
       "      <th>ever_married</th>\n",
       "      <th>work_type</th>\n",
       "      <th>Residence_type</th>\n",
       "      <th>avg_glucose_level</th>\n",
       "      <th>bmi</th>\n",
       "      <th>smoking_status</th>\n",
       "      <th>stroke</th>\n",
       "    </tr>\n",
       "  </thead>\n",
       "  <tbody>\n",
       "    <tr>\n",
       "      <th>0</th>\n",
       "      <td>1</td>\n",
       "      <td>0.961273</td>\n",
       "      <td>0</td>\n",
       "      <td>1</td>\n",
       "      <td>1</td>\n",
       "      <td>2</td>\n",
       "      <td>1</td>\n",
       "      <td>2.479202</td>\n",
       "      <td>0.889220</td>\n",
       "      <td>0</td>\n",
       "      <td>1</td>\n",
       "    </tr>\n",
       "    <tr>\n",
       "      <th>1</th>\n",
       "      <td>0</td>\n",
       "      <td>0.643316</td>\n",
       "      <td>0</td>\n",
       "      <td>0</td>\n",
       "      <td>1</td>\n",
       "      <td>3</td>\n",
       "      <td>0</td>\n",
       "      <td>1.930834</td>\n",
       "      <td>-0.187682</td>\n",
       "      <td>1</td>\n",
       "      <td>1</td>\n",
       "    </tr>\n",
       "    <tr>\n",
       "      <th>2</th>\n",
       "      <td>1</td>\n",
       "      <td>1.650179</td>\n",
       "      <td>0</td>\n",
       "      <td>1</td>\n",
       "      <td>1</td>\n",
       "      <td>2</td>\n",
       "      <td>0</td>\n",
       "      <td>-0.063211</td>\n",
       "      <td>0.316210</td>\n",
       "      <td>1</td>\n",
       "      <td>1</td>\n",
       "    </tr>\n",
       "    <tr>\n",
       "      <th>3</th>\n",
       "      <td>0</td>\n",
       "      <td>0.007403</td>\n",
       "      <td>0</td>\n",
       "      <td>0</td>\n",
       "      <td>1</td>\n",
       "      <td>2</td>\n",
       "      <td>1</td>\n",
       "      <td>1.289277</td>\n",
       "      <td>0.581751</td>\n",
       "      <td>2</td>\n",
       "      <td>1</td>\n",
       "    </tr>\n",
       "    <tr>\n",
       "      <th>4</th>\n",
       "      <td>0</td>\n",
       "      <td>1.597186</td>\n",
       "      <td>1</td>\n",
       "      <td>0</td>\n",
       "      <td>1</td>\n",
       "      <td>3</td>\n",
       "      <td>0</td>\n",
       "      <td>1.349126</td>\n",
       "      <td>-0.871738</td>\n",
       "      <td>1</td>\n",
       "      <td>1</td>\n",
       "    </tr>\n",
       "    <tr>\n",
       "      <th>...</th>\n",
       "      <td>...</td>\n",
       "      <td>...</td>\n",
       "      <td>...</td>\n",
       "      <td>...</td>\n",
       "      <td>...</td>\n",
       "      <td>...</td>\n",
       "      <td>...</td>\n",
       "      <td>...</td>\n",
       "      <td>...</td>\n",
       "      <td>...</td>\n",
       "      <td>...</td>\n",
       "    </tr>\n",
       "    <tr>\n",
       "      <th>5102</th>\n",
       "      <td>0</td>\n",
       "      <td>0.431345</td>\n",
       "      <td>0</td>\n",
       "      <td>0</td>\n",
       "      <td>1</td>\n",
       "      <td>2</td>\n",
       "      <td>0</td>\n",
       "      <td>-0.642849</td>\n",
       "      <td>-1.193183</td>\n",
       "      <td>1</td>\n",
       "      <td>0</td>\n",
       "    </tr>\n",
       "    <tr>\n",
       "      <th>5105</th>\n",
       "      <td>0</td>\n",
       "      <td>1.650179</td>\n",
       "      <td>1</td>\n",
       "      <td>0</td>\n",
       "      <td>1</td>\n",
       "      <td>2</td>\n",
       "      <td>1</td>\n",
       "      <td>-0.522324</td>\n",
       "      <td>-0.187682</td>\n",
       "      <td>1</td>\n",
       "      <td>0</td>\n",
       "    </tr>\n",
       "    <tr>\n",
       "      <th>5106</th>\n",
       "      <td>0</td>\n",
       "      <td>1.703172</td>\n",
       "      <td>0</td>\n",
       "      <td>0</td>\n",
       "      <td>1</td>\n",
       "      <td>3</td>\n",
       "      <td>1</td>\n",
       "      <td>0.336054</td>\n",
       "      <td>1.364399</td>\n",
       "      <td>1</td>\n",
       "      <td>0</td>\n",
       "    </tr>\n",
       "    <tr>\n",
       "      <th>5107</th>\n",
       "      <td>0</td>\n",
       "      <td>-0.734496</td>\n",
       "      <td>0</td>\n",
       "      <td>0</td>\n",
       "      <td>1</td>\n",
       "      <td>3</td>\n",
       "      <td>0</td>\n",
       "      <td>-0.538062</td>\n",
       "      <td>0.050668</td>\n",
       "      <td>1</td>\n",
       "      <td>0</td>\n",
       "    </tr>\n",
       "    <tr>\n",
       "      <th>5108</th>\n",
       "      <td>1</td>\n",
       "      <td>0.113388</td>\n",
       "      <td>0</td>\n",
       "      <td>0</td>\n",
       "      <td>1</td>\n",
       "      <td>2</td>\n",
       "      <td>0</td>\n",
       "      <td>1.186976</td>\n",
       "      <td>-0.648124</td>\n",
       "      <td>0</td>\n",
       "      <td>0</td>\n",
       "    </tr>\n",
       "  </tbody>\n",
       "</table>\n",
       "<p>3565 rows × 11 columns</p>\n",
       "</div>"
      ],
      "text/plain": [
       "      gender       age  hypertension  heart_disease  ever_married  work_type  \\\n",
       "0          1  0.961273             0              1             1          2   \n",
       "1          0  0.643316             0              0             1          3   \n",
       "2          1  1.650179             0              1             1          2   \n",
       "3          0  0.007403             0              0             1          2   \n",
       "4          0  1.597186             1              0             1          3   \n",
       "...      ...       ...           ...            ...           ...        ...   \n",
       "5102       0  0.431345             0              0             1          2   \n",
       "5105       0  1.650179             1              0             1          2   \n",
       "5106       0  1.703172             0              0             1          3   \n",
       "5107       0 -0.734496             0              0             1          3   \n",
       "5108       1  0.113388             0              0             1          2   \n",
       "\n",
       "      Residence_type  avg_glucose_level       bmi  smoking_status  stroke  \n",
       "0                  1           2.479202  0.889220               0       1  \n",
       "1                  0           1.930834 -0.187682               1       1  \n",
       "2                  0          -0.063211  0.316210               1       1  \n",
       "3                  1           1.289277  0.581751               2       1  \n",
       "4                  0           1.349126 -0.871738               1       1  \n",
       "...              ...                ...       ...             ...     ...  \n",
       "5102               0          -0.642849 -1.193183               1       0  \n",
       "5105               1          -0.522324 -0.187682               1       0  \n",
       "5106               1           0.336054  1.364399               1       0  \n",
       "5107               0          -0.538062  0.050668               1       0  \n",
       "5108               0           1.186976 -0.648124               0       0  \n",
       "\n",
       "[3565 rows x 11 columns]"
      ]
     },
     "execution_count": 29,
     "metadata": {},
     "output_type": "execute_result"
    }
   ],
   "source": [
    "df"
   ]
  },
  {
   "cell_type": "code",
   "execution_count": 30,
   "id": "4d3c0bef",
   "metadata": {},
   "outputs": [],
   "source": [
    "#Crossing age and bmi due to moderate correlation to capture any interactions\n",
    "df['age_bmi'] = df['age'] * df['bmi']"
   ]
  },
  {
   "cell_type": "code",
   "execution_count": 31,
   "id": "56223ee3",
   "metadata": {},
   "outputs": [
    {
     "data": {
      "text/html": [
       "<div>\n",
       "<style scoped>\n",
       "    .dataframe tbody tr th:only-of-type {\n",
       "        vertical-align: middle;\n",
       "    }\n",
       "\n",
       "    .dataframe tbody tr th {\n",
       "        vertical-align: top;\n",
       "    }\n",
       "\n",
       "    .dataframe thead th {\n",
       "        text-align: right;\n",
       "    }\n",
       "</style>\n",
       "<table border=\"1\" class=\"dataframe\">\n",
       "  <thead>\n",
       "    <tr style=\"text-align: right;\">\n",
       "      <th></th>\n",
       "      <th>gender</th>\n",
       "      <th>age</th>\n",
       "      <th>hypertension</th>\n",
       "      <th>heart_disease</th>\n",
       "      <th>ever_married</th>\n",
       "      <th>work_type</th>\n",
       "      <th>Residence_type</th>\n",
       "      <th>avg_glucose_level</th>\n",
       "      <th>bmi</th>\n",
       "      <th>smoking_status</th>\n",
       "      <th>stroke</th>\n",
       "      <th>age_bmi</th>\n",
       "    </tr>\n",
       "  </thead>\n",
       "  <tbody>\n",
       "    <tr>\n",
       "      <th>0</th>\n",
       "      <td>1</td>\n",
       "      <td>0.961273</td>\n",
       "      <td>0</td>\n",
       "      <td>1</td>\n",
       "      <td>1</td>\n",
       "      <td>2</td>\n",
       "      <td>1</td>\n",
       "      <td>2.479202</td>\n",
       "      <td>0.889220</td>\n",
       "      <td>0</td>\n",
       "      <td>1</td>\n",
       "      <td>0.854783</td>\n",
       "    </tr>\n",
       "    <tr>\n",
       "      <th>1</th>\n",
       "      <td>0</td>\n",
       "      <td>0.643316</td>\n",
       "      <td>0</td>\n",
       "      <td>0</td>\n",
       "      <td>1</td>\n",
       "      <td>3</td>\n",
       "      <td>0</td>\n",
       "      <td>1.930834</td>\n",
       "      <td>-0.187682</td>\n",
       "      <td>1</td>\n",
       "      <td>1</td>\n",
       "      <td>-0.120739</td>\n",
       "    </tr>\n",
       "    <tr>\n",
       "      <th>2</th>\n",
       "      <td>1</td>\n",
       "      <td>1.650179</td>\n",
       "      <td>0</td>\n",
       "      <td>1</td>\n",
       "      <td>1</td>\n",
       "      <td>2</td>\n",
       "      <td>0</td>\n",
       "      <td>-0.063211</td>\n",
       "      <td>0.316210</td>\n",
       "      <td>1</td>\n",
       "      <td>1</td>\n",
       "      <td>0.521802</td>\n",
       "    </tr>\n",
       "    <tr>\n",
       "      <th>3</th>\n",
       "      <td>0</td>\n",
       "      <td>0.007403</td>\n",
       "      <td>0</td>\n",
       "      <td>0</td>\n",
       "      <td>1</td>\n",
       "      <td>2</td>\n",
       "      <td>1</td>\n",
       "      <td>1.289277</td>\n",
       "      <td>0.581751</td>\n",
       "      <td>2</td>\n",
       "      <td>1</td>\n",
       "      <td>0.004306</td>\n",
       "    </tr>\n",
       "    <tr>\n",
       "      <th>4</th>\n",
       "      <td>0</td>\n",
       "      <td>1.597186</td>\n",
       "      <td>1</td>\n",
       "      <td>0</td>\n",
       "      <td>1</td>\n",
       "      <td>3</td>\n",
       "      <td>0</td>\n",
       "      <td>1.349126</td>\n",
       "      <td>-0.871738</td>\n",
       "      <td>1</td>\n",
       "      <td>1</td>\n",
       "      <td>-1.392328</td>\n",
       "    </tr>\n",
       "    <tr>\n",
       "      <th>...</th>\n",
       "      <td>...</td>\n",
       "      <td>...</td>\n",
       "      <td>...</td>\n",
       "      <td>...</td>\n",
       "      <td>...</td>\n",
       "      <td>...</td>\n",
       "      <td>...</td>\n",
       "      <td>...</td>\n",
       "      <td>...</td>\n",
       "      <td>...</td>\n",
       "      <td>...</td>\n",
       "      <td>...</td>\n",
       "    </tr>\n",
       "    <tr>\n",
       "      <th>5102</th>\n",
       "      <td>0</td>\n",
       "      <td>0.431345</td>\n",
       "      <td>0</td>\n",
       "      <td>0</td>\n",
       "      <td>1</td>\n",
       "      <td>2</td>\n",
       "      <td>0</td>\n",
       "      <td>-0.642849</td>\n",
       "      <td>-1.193183</td>\n",
       "      <td>1</td>\n",
       "      <td>0</td>\n",
       "      <td>-0.514673</td>\n",
       "    </tr>\n",
       "    <tr>\n",
       "      <th>5105</th>\n",
       "      <td>0</td>\n",
       "      <td>1.650179</td>\n",
       "      <td>1</td>\n",
       "      <td>0</td>\n",
       "      <td>1</td>\n",
       "      <td>2</td>\n",
       "      <td>1</td>\n",
       "      <td>-0.522324</td>\n",
       "      <td>-0.187682</td>\n",
       "      <td>1</td>\n",
       "      <td>0</td>\n",
       "      <td>-0.309708</td>\n",
       "    </tr>\n",
       "    <tr>\n",
       "      <th>5106</th>\n",
       "      <td>0</td>\n",
       "      <td>1.703172</td>\n",
       "      <td>0</td>\n",
       "      <td>0</td>\n",
       "      <td>1</td>\n",
       "      <td>3</td>\n",
       "      <td>1</td>\n",
       "      <td>0.336054</td>\n",
       "      <td>1.364399</td>\n",
       "      <td>1</td>\n",
       "      <td>0</td>\n",
       "      <td>2.323806</td>\n",
       "    </tr>\n",
       "    <tr>\n",
       "      <th>5107</th>\n",
       "      <td>0</td>\n",
       "      <td>-0.734496</td>\n",
       "      <td>0</td>\n",
       "      <td>0</td>\n",
       "      <td>1</td>\n",
       "      <td>3</td>\n",
       "      <td>0</td>\n",
       "      <td>-0.538062</td>\n",
       "      <td>0.050668</td>\n",
       "      <td>1</td>\n",
       "      <td>0</td>\n",
       "      <td>-0.037216</td>\n",
       "    </tr>\n",
       "    <tr>\n",
       "      <th>5108</th>\n",
       "      <td>1</td>\n",
       "      <td>0.113388</td>\n",
       "      <td>0</td>\n",
       "      <td>0</td>\n",
       "      <td>1</td>\n",
       "      <td>2</td>\n",
       "      <td>0</td>\n",
       "      <td>1.186976</td>\n",
       "      <td>-0.648124</td>\n",
       "      <td>0</td>\n",
       "      <td>0</td>\n",
       "      <td>-0.073490</td>\n",
       "    </tr>\n",
       "  </tbody>\n",
       "</table>\n",
       "<p>3565 rows × 12 columns</p>\n",
       "</div>"
      ],
      "text/plain": [
       "      gender       age  hypertension  heart_disease  ever_married  work_type  \\\n",
       "0          1  0.961273             0              1             1          2   \n",
       "1          0  0.643316             0              0             1          3   \n",
       "2          1  1.650179             0              1             1          2   \n",
       "3          0  0.007403             0              0             1          2   \n",
       "4          0  1.597186             1              0             1          3   \n",
       "...      ...       ...           ...            ...           ...        ...   \n",
       "5102       0  0.431345             0              0             1          2   \n",
       "5105       0  1.650179             1              0             1          2   \n",
       "5106       0  1.703172             0              0             1          3   \n",
       "5107       0 -0.734496             0              0             1          3   \n",
       "5108       1  0.113388             0              0             1          2   \n",
       "\n",
       "      Residence_type  avg_glucose_level       bmi  smoking_status  stroke  \\\n",
       "0                  1           2.479202  0.889220               0       1   \n",
       "1                  0           1.930834 -0.187682               1       1   \n",
       "2                  0          -0.063211  0.316210               1       1   \n",
       "3                  1           1.289277  0.581751               2       1   \n",
       "4                  0           1.349126 -0.871738               1       1   \n",
       "...              ...                ...       ...             ...     ...   \n",
       "5102               0          -0.642849 -1.193183               1       0   \n",
       "5105               1          -0.522324 -0.187682               1       0   \n",
       "5106               1           0.336054  1.364399               1       0   \n",
       "5107               0          -0.538062  0.050668               1       0   \n",
       "5108               0           1.186976 -0.648124               0       0   \n",
       "\n",
       "       age_bmi  \n",
       "0     0.854783  \n",
       "1    -0.120739  \n",
       "2     0.521802  \n",
       "3     0.004306  \n",
       "4    -1.392328  \n",
       "...        ...  \n",
       "5102 -0.514673  \n",
       "5105 -0.309708  \n",
       "5106  2.323806  \n",
       "5107 -0.037216  \n",
       "5108 -0.073490  \n",
       "\n",
       "[3565 rows x 12 columns]"
      ]
     },
     "execution_count": 31,
     "metadata": {},
     "output_type": "execute_result"
    }
   ],
   "source": [
    "df"
   ]
  },
  {
   "cell_type": "markdown",
   "id": "6b696b2a",
   "metadata": {},
   "source": [
    "## Chi-Squared Statistic\n",
    "We conduct the Pearson's Chi-Squared Statistic to test for independence between categorical variables. This is to conclude whether two variables (categorical and the target variable stroke) are related to each other. Null Hypothesis (H0): There is no relationship between the variables Alternative Hypothesis (H1): There is a statistically significant relationship between the variables.\n"
   ]
  },
  {
   "cell_type": "code",
   "execution_count": 32,
   "id": "9138843c",
   "metadata": {},
   "outputs": [],
   "source": [
    "#pip install stats"
   ]
  },
  {
   "cell_type": "code",
   "execution_count": 33,
   "id": "b790645d",
   "metadata": {},
   "outputs": [
    {
     "data": {
      "text/html": [
       "<div>\n",
       "<style scoped>\n",
       "    .dataframe tbody tr th:only-of-type {\n",
       "        vertical-align: middle;\n",
       "    }\n",
       "\n",
       "    .dataframe tbody tr th {\n",
       "        vertical-align: top;\n",
       "    }\n",
       "\n",
       "    .dataframe thead th {\n",
       "        text-align: right;\n",
       "    }\n",
       "</style>\n",
       "<table border=\"1\" class=\"dataframe\">\n",
       "  <thead>\n",
       "    <tr style=\"text-align: right;\">\n",
       "      <th></th>\n",
       "      <th>Category</th>\n",
       "      <th>P-Value</th>\n",
       "      <th>Chi Square Test Stat</th>\n",
       "      <th>Conclusion</th>\n",
       "    </tr>\n",
       "  </thead>\n",
       "  <tbody>\n",
       "    <tr>\n",
       "      <th>0</th>\n",
       "      <td>gender</td>\n",
       "      <td>3.919168e-01</td>\n",
       "      <td>0.732987</td>\n",
       "      <td>Independent(Do not reject H0)</td>\n",
       "    </tr>\n",
       "    <tr>\n",
       "      <th>1</th>\n",
       "      <td>hypertension</td>\n",
       "      <td>2.141984e-15</td>\n",
       "      <td>62.929876</td>\n",
       "      <td>Dependent (reject H0)</td>\n",
       "    </tr>\n",
       "    <tr>\n",
       "      <th>2</th>\n",
       "      <td>heart_disease</td>\n",
       "      <td>3.620020e-14</td>\n",
       "      <td>57.364946</td>\n",
       "      <td>Dependent (reject H0)</td>\n",
       "    </tr>\n",
       "    <tr>\n",
       "      <th>3</th>\n",
       "      <td>ever_married</td>\n",
       "      <td>4.838049e-06</td>\n",
       "      <td>20.900355</td>\n",
       "      <td>Dependent (reject H0)</td>\n",
       "    </tr>\n",
       "    <tr>\n",
       "      <th>4</th>\n",
       "      <td>work_type</td>\n",
       "      <td>1.648351e-03</td>\n",
       "      <td>17.355633</td>\n",
       "      <td>Dependent (reject H0)</td>\n",
       "    </tr>\n",
       "    <tr>\n",
       "      <th>5</th>\n",
       "      <td>Residence_type</td>\n",
       "      <td>6.939923e-01</td>\n",
       "      <td>0.154797</td>\n",
       "      <td>Independent(Do not reject H0)</td>\n",
       "    </tr>\n",
       "    <tr>\n",
       "      <th>6</th>\n",
       "      <td>smoking_status</td>\n",
       "      <td>3.197753e-03</td>\n",
       "      <td>11.490614</td>\n",
       "      <td>Dependent (reject H0)</td>\n",
       "    </tr>\n",
       "  </tbody>\n",
       "</table>\n",
       "</div>"
      ],
      "text/plain": [
       "         Category       P-Value  Chi Square Test Stat  \\\n",
       "0          gender  3.919168e-01              0.732987   \n",
       "1    hypertension  2.141984e-15             62.929876   \n",
       "2   heart_disease  3.620020e-14             57.364946   \n",
       "3    ever_married  4.838049e-06             20.900355   \n",
       "4       work_type  1.648351e-03             17.355633   \n",
       "5  Residence_type  6.939923e-01              0.154797   \n",
       "6  smoking_status  3.197753e-03             11.490614   \n",
       "\n",
       "                      Conclusion  \n",
       "0  Independent(Do not reject H0)  \n",
       "1          Dependent (reject H0)  \n",
       "2          Dependent (reject H0)  \n",
       "3          Dependent (reject H0)  \n",
       "4          Dependent (reject H0)  \n",
       "5  Independent(Do not reject H0)  \n",
       "6          Dependent (reject H0)  "
      ]
     },
     "execution_count": 33,
     "metadata": {},
     "output_type": "execute_result"
    }
   ],
   "source": [
    "from scipy import stats\n",
    "chi_table = pd.DataFrame(columns=[\"Category\", \"P-Value\",'Chi Square Test Stat', \"Conclusion\"])\n",
    "def find_dep(p_value): \n",
    "    alpha = 0.05\n",
    "    if p_value <= alpha: \n",
    "        return \"Dependent (reject H0)\"\n",
    "    else: \n",
    "        return \"Independent(Do not reject H0)\"\n",
    "## get the \n",
    "cat_variables = [\"gender\", \"hypertension\", \"heart_disease\", \"ever_married\", \"work_type\",\"Residence_type\",\"smoking_status\"]\n",
    "chi_lists = []\n",
    "\n",
    "for column in cat_variables:\n",
    "    contigency = pd.crosstab(df[column], df['stroke'])\n",
    "    stat, p_value, dof, expected = stats.chi2_contingency(contigency)\n",
    "    conclusion = find_dep(p_value)\n",
    "    each_col = [column, p_value, stat, conclusion]\n",
    "    chi_lists.append(each_col)\n",
    "\n",
    "for i in chi_lists:\n",
    "    chi_table.loc[len(chi_table)] = i\n",
    "chi_table"
   ]
  },
  {
   "cell_type": "code",
   "execution_count": 34,
   "id": "e32d9afe",
   "metadata": {},
   "outputs": [],
   "source": [
    "#pip install imbalanced-learn"
   ]
  },
  {
   "cell_type": "markdown",
   "id": "cf182336",
   "metadata": {},
   "source": [
    "## Point Biserial Correlation\n",
    "Point-biserial correlation is used to measure the relationship between a binary variable, x, and a continuous variable, y. We use this correlation strategy to see the level of correlation between the continuous variables and the target variable, stroke"
   ]
  },
  {
   "cell_type": "code",
   "execution_count": 35,
   "id": "55ba0009",
   "metadata": {},
   "outputs": [
    {
     "data": {
      "text/html": [
       "<div>\n",
       "<style scoped>\n",
       "    .dataframe tbody tr th:only-of-type {\n",
       "        vertical-align: middle;\n",
       "    }\n",
       "\n",
       "    .dataframe tbody tr th {\n",
       "        vertical-align: top;\n",
       "    }\n",
       "\n",
       "    .dataframe thead th {\n",
       "        text-align: right;\n",
       "    }\n",
       "</style>\n",
       "<table border=\"1\" class=\"dataframe\">\n",
       "  <thead>\n",
       "    <tr style=\"text-align: right;\">\n",
       "      <th></th>\n",
       "      <th>Category</th>\n",
       "      <th>Biserial Stats</th>\n",
       "      <th>P_value</th>\n",
       "      <th>Conclusion</th>\n",
       "    </tr>\n",
       "  </thead>\n",
       "  <tbody>\n",
       "    <tr>\n",
       "      <th>0</th>\n",
       "      <td>age</td>\n",
       "      <td>0.250765</td>\n",
       "      <td>2.989889e-52</td>\n",
       "      <td>Dependent (reject H0)</td>\n",
       "    </tr>\n",
       "    <tr>\n",
       "      <th>1</th>\n",
       "      <td>avg_glucose_level</td>\n",
       "      <td>0.128773</td>\n",
       "      <td>1.179848e-14</td>\n",
       "      <td>Dependent (reject H0)</td>\n",
       "    </tr>\n",
       "    <tr>\n",
       "      <th>2</th>\n",
       "      <td>age_bmi</td>\n",
       "      <td>-0.047940</td>\n",
       "      <td>4.196036e-03</td>\n",
       "      <td>Dependent (reject H0)</td>\n",
       "    </tr>\n",
       "  </tbody>\n",
       "</table>\n",
       "</div>"
      ],
      "text/plain": [
       "            Category  Biserial Stats       P_value             Conclusion\n",
       "0                age        0.250765  2.989889e-52  Dependent (reject H0)\n",
       "1  avg_glucose_level        0.128773  1.179848e-14  Dependent (reject H0)\n",
       "2            age_bmi       -0.047940  4.196036e-03  Dependent (reject H0)"
      ]
     },
     "execution_count": 35,
     "metadata": {},
     "output_type": "execute_result"
    }
   ],
   "source": [
    "biser_table = pd.DataFrame(columns=[\"Category\", \"Biserial Stats\",'P_value', \"Conclusion\"])\n",
    "cont_var = [\"age\", \"avg_glucose_level\", \"age_bmi\"]\n",
    "bi_lists = []\n",
    "for var in cont_var:\n",
    "   stat, p = stats.pointbiserialr(df[var], df[\"stroke\"])\n",
    "   each_val = [var, stat, p, find_dep(p)]\n",
    "   bi_lists.append(each_val)\n",
    "\n",
    "for i in bi_lists:\n",
    "    biser_table.loc[len(biser_table)] = i\n",
    "biser_table"
   ]
  },
  {
   "cell_type": "markdown",
   "id": "8f2b13b7",
   "metadata": {},
   "source": [
    "## Hypothesis Testing"
   ]
  },
  {
   "cell_type": "code",
   "execution_count": 36,
   "id": "268d91fa",
   "metadata": {},
   "outputs": [
    {
     "name": "stdout",
     "output_type": "stream",
     "text": [
      "        Variable Name    T stats   P-value\n",
      "0              stroke        inf       0.0\n",
      "1                 age  15.462421       0.0\n",
      "2        hypertension   8.114004       0.0\n",
      "3       heart_disease   7.785221       0.0\n",
      "4   avg_glucose_level    7.75112       0.0\n",
      "5        ever_married   4.669437  0.000003\n",
      "6             age_bmi  -2.864884  0.004196\n",
      "7      smoking_status  -2.394781  0.016682\n",
      "8           work_type   1.798387    0.0722\n",
      "9              gender   0.930103  0.352381\n",
      "10     Residence_type    0.46578  0.641402\n",
      "11                bmi   0.455623  0.648689\n"
     ]
    }
   ],
   "source": [
    "numeric = df.select_dtypes(include=np.number).columns.tolist()\n",
    "tstats_df = pd.DataFrame()\n",
    "warnings.filterwarnings(\"ignore\")\n",
    "\n",
    "for eachvariable in numeric:\n",
    "    tstats = stats.ttest_ind(df.loc[df[\"stroke\"] == 1, eachvariable], df.loc[df[\"stroke\"] == 0, eachvariable])\n",
    "    temp = pd.DataFrame([eachvariable, tstats[0], tstats[1]]).T\n",
    "    temp.columns = [\"Variable Name\", \"T stats\", \" P-value\"]\n",
    "    tstats_df = pd.concat([tstats_df, temp], axis = 0, ignore_index= True)\n",
    "tstats_df = tstats_df.sort_values(by=\" P-value\").reset_index(drop=True)\n",
    "print(tstats_df)"
   ]
  },
  {
   "cell_type": "markdown",
   "id": "c1e5c139",
   "metadata": {},
   "source": [
    "At the 0.05 significant level, all the variables are statistically significant since the p-value < 0.05"
   ]
  },
  {
   "cell_type": "code",
   "execution_count": 37,
   "id": "bdf80e03",
   "metadata": {},
   "outputs": [],
   "source": [
    "#pip install xgboost"
   ]
  },
  {
   "cell_type": "code",
   "execution_count": 38,
   "id": "47eb4882",
   "metadata": {},
   "outputs": [],
   "source": [
    "import xgboost\n",
    "from numpy import loadtxt\n",
    "from xgboost import XGBClassifier\n",
    "from xgboost import plot_importance\n",
    "from matplotlib import  pyplot\n"
   ]
  },
  {
   "cell_type": "code",
   "execution_count": 39,
   "id": "26040c16",
   "metadata": {},
   "outputs": [
    {
     "data": {
      "image/png": "[encoded data removed]",
      "text/plain": [
       "<Figure size 640x480 with 1 Axes>"
      ]
     },
     "metadata": {},
     "output_type": "display_data"
    },
    {
     "ename": "NameError",
     "evalue": "name 'X_resampled' is not defined",
     "output_type": "error",
     "traceback": [
      "\u001b[0;31m---------------------------------------------------------------------------\u001b[0m",
      "\u001b[0;31mNameError\u001b[0m                                 Traceback (most recent call last)",
      "Cell \u001b[0;32mIn[39], line 19\u001b[0m\n\u001b[1;32m     16\u001b[0m \u001b[38;5;28;01mfrom\u001b[39;00m \u001b[38;5;21;01mmatplotlib\u001b[39;00m \u001b[38;5;28;01mimport\u001b[39;00m  pyplot\n\u001b[1;32m     18\u001b[0m model \u001b[38;5;241m=\u001b[39m XGBClassifier()\n\u001b[0;32m---> 19\u001b[0m model\u001b[38;5;241m.\u001b[39mfit(X_resampled, y_resampled)\n\u001b[1;32m     21\u001b[0m plot_importance(model)\n\u001b[1;32m     22\u001b[0m pyplot\u001b[38;5;241m.\u001b[39mshow()\n",
      "\u001b[0;31mNameError\u001b[0m: name 'X_resampled' is not defined"
     ]
    }
   ],
   "source": [
    "np.random.seed(120)\n",
    "y_feature_selection = df['stroke'] # dependent variable\n",
    "x_feature_selection = df.drop(columns=[\"stroke\"], axis=1)\n",
    "X_train, X_test, y_train, y_test = train_test_split(x_feature_selection, y_feature_selection, test_size=0.33, random_state=7)\n",
    "model = XGBClassifier()\n",
    "model.fit(x_feature_selection, y_feature_selection)\n",
    "# plot feature importance\n",
    "plot_importance(model)\n",
    "plt.show()\n",
    "## Feature Importance\n",
    "\n",
    "import xgboost\n",
    "from numpy import loadtxt\n",
    "from xgboost import XGBClassifier\n",
    "from xgboost import plot_importance\n",
    "from matplotlib import  pyplot\n",
    "\n",
    "model = XGBClassifier()\n",
    "model.fit(X_resampled, y_resampled)\n",
    "\n",
    "plot_importance(model)\n",
    "pyplot.show()"
   ]
  },
  {
   "cell_type": "code",
   "execution_count": 41,
   "id": "0d029b64",
   "metadata": {},
   "outputs": [
    {
     "data": {
      "text/html": [
       "<div>\n",
       "<style scoped>\n",
       "    .dataframe tbody tr th:only-of-type {\n",
       "        vertical-align: middle;\n",
       "    }\n",
       "\n",
       "    .dataframe tbody tr th {\n",
       "        vertical-align: top;\n",
       "    }\n",
       "\n",
       "    .dataframe thead th {\n",
       "        text-align: right;\n",
       "    }\n",
       "</style>\n",
       "<table border=\"1\" class=\"dataframe\">\n",
       "  <thead>\n",
       "    <tr style=\"text-align: right;\">\n",
       "      <th></th>\n",
       "      <th>gender</th>\n",
       "      <th>age</th>\n",
       "      <th>hypertension</th>\n",
       "      <th>heart_disease</th>\n",
       "      <th>ever_married</th>\n",
       "      <th>work_type</th>\n",
       "      <th>avg_glucose_level</th>\n",
       "      <th>bmi</th>\n",
       "      <th>smoking_status</th>\n",
       "      <th>stroke</th>\n",
       "      <th>age_bmi</th>\n",
       "    </tr>\n",
       "  </thead>\n",
       "  <tbody>\n",
       "    <tr>\n",
       "      <th>0</th>\n",
       "      <td>1</td>\n",
       "      <td>0.961273</td>\n",
       "      <td>0</td>\n",
       "      <td>1</td>\n",
       "      <td>1</td>\n",
       "      <td>2</td>\n",
       "      <td>2.479202</td>\n",
       "      <td>0.889220</td>\n",
       "      <td>0</td>\n",
       "      <td>1</td>\n",
       "      <td>0.854783</td>\n",
       "    </tr>\n",
       "    <tr>\n",
       "      <th>1</th>\n",
       "      <td>0</td>\n",
       "      <td>0.643316</td>\n",
       "      <td>0</td>\n",
       "      <td>0</td>\n",
       "      <td>1</td>\n",
       "      <td>3</td>\n",
       "      <td>1.930834</td>\n",
       "      <td>-0.187682</td>\n",
       "      <td>1</td>\n",
       "      <td>1</td>\n",
       "      <td>-0.120739</td>\n",
       "    </tr>\n",
       "    <tr>\n",
       "      <th>2</th>\n",
       "      <td>1</td>\n",
       "      <td>1.650179</td>\n",
       "      <td>0</td>\n",
       "      <td>1</td>\n",
       "      <td>1</td>\n",
       "      <td>2</td>\n",
       "      <td>-0.063211</td>\n",
       "      <td>0.316210</td>\n",
       "      <td>1</td>\n",
       "      <td>1</td>\n",
       "      <td>0.521802</td>\n",
       "    </tr>\n",
       "    <tr>\n",
       "      <th>3</th>\n",
       "      <td>0</td>\n",
       "      <td>0.007403</td>\n",
       "      <td>0</td>\n",
       "      <td>0</td>\n",
       "      <td>1</td>\n",
       "      <td>2</td>\n",
       "      <td>1.289277</td>\n",
       "      <td>0.581751</td>\n",
       "      <td>2</td>\n",
       "      <td>1</td>\n",
       "      <td>0.004306</td>\n",
       "    </tr>\n",
       "    <tr>\n",
       "      <th>4</th>\n",
       "      <td>0</td>\n",
       "      <td>1.597186</td>\n",
       "      <td>1</td>\n",
       "      <td>0</td>\n",
       "      <td>1</td>\n",
       "      <td>3</td>\n",
       "      <td>1.349126</td>\n",
       "      <td>-0.871738</td>\n",
       "      <td>1</td>\n",
       "      <td>1</td>\n",
       "      <td>-1.392328</td>\n",
       "    </tr>\n",
       "    <tr>\n",
       "      <th>...</th>\n",
       "      <td>...</td>\n",
       "      <td>...</td>\n",
       "      <td>...</td>\n",
       "      <td>...</td>\n",
       "      <td>...</td>\n",
       "      <td>...</td>\n",
       "      <td>...</td>\n",
       "      <td>...</td>\n",
       "      <td>...</td>\n",
       "      <td>...</td>\n",
       "      <td>...</td>\n",
       "    </tr>\n",
       "    <tr>\n",
       "      <th>5102</th>\n",
       "      <td>0</td>\n",
       "      <td>0.431345</td>\n",
       "      <td>0</td>\n",
       "      <td>0</td>\n",
       "      <td>1</td>\n",
       "      <td>2</td>\n",
       "      <td>-0.642849</td>\n",
       "      <td>-1.193183</td>\n",
       "      <td>1</td>\n",
       "      <td>0</td>\n",
       "      <td>-0.514673</td>\n",
       "    </tr>\n",
       "    <tr>\n",
       "      <th>5105</th>\n",
       "      <td>0</td>\n",
       "      <td>1.650179</td>\n",
       "      <td>1</td>\n",
       "      <td>0</td>\n",
       "      <td>1</td>\n",
       "      <td>2</td>\n",
       "      <td>-0.522324</td>\n",
       "      <td>-0.187682</td>\n",
       "      <td>1</td>\n",
       "      <td>0</td>\n",
       "      <td>-0.309708</td>\n",
       "    </tr>\n",
       "    <tr>\n",
       "      <th>5106</th>\n",
       "      <td>0</td>\n",
       "      <td>1.703172</td>\n",
       "      <td>0</td>\n",
       "      <td>0</td>\n",
       "      <td>1</td>\n",
       "      <td>3</td>\n",
       "      <td>0.336054</td>\n",
       "      <td>1.364399</td>\n",
       "      <td>1</td>\n",
       "      <td>0</td>\n",
       "      <td>2.323806</td>\n",
       "    </tr>\n",
       "    <tr>\n",
       "      <th>5107</th>\n",
       "      <td>0</td>\n",
       "      <td>-0.734496</td>\n",
       "      <td>0</td>\n",
       "      <td>0</td>\n",
       "      <td>1</td>\n",
       "      <td>3</td>\n",
       "      <td>-0.538062</td>\n",
       "      <td>0.050668</td>\n",
       "      <td>1</td>\n",
       "      <td>0</td>\n",
       "      <td>-0.037216</td>\n",
       "    </tr>\n",
       "    <tr>\n",
       "      <th>5108</th>\n",
       "      <td>1</td>\n",
       "      <td>0.113388</td>\n",
       "      <td>0</td>\n",
       "      <td>0</td>\n",
       "      <td>1</td>\n",
       "      <td>2</td>\n",
       "      <td>1.186976</td>\n",
       "      <td>-0.648124</td>\n",
       "      <td>0</td>\n",
       "      <td>0</td>\n",
       "      <td>-0.073490</td>\n",
       "    </tr>\n",
       "  </tbody>\n",
       "</table>\n",
       "<p>3565 rows × 11 columns</p>\n",
       "</div>"
      ],
      "text/plain": [
       "      gender       age  hypertension  heart_disease  ever_married  work_type  \\\n",
       "0          1  0.961273             0              1             1          2   \n",
       "1          0  0.643316             0              0             1          3   \n",
       "2          1  1.650179             0              1             1          2   \n",
       "3          0  0.007403             0              0             1          2   \n",
       "4          0  1.597186             1              0             1          3   \n",
       "...      ...       ...           ...            ...           ...        ...   \n",
       "5102       0  0.431345             0              0             1          2   \n",
       "5105       0  1.650179             1              0             1          2   \n",
       "5106       0  1.703172             0              0             1          3   \n",
       "5107       0 -0.734496             0              0             1          3   \n",
       "5108       1  0.113388             0              0             1          2   \n",
       "\n",
       "      avg_glucose_level       bmi  smoking_status  stroke   age_bmi  \n",
       "0              2.479202  0.889220               0       1  0.854783  \n",
       "1              1.930834 -0.187682               1       1 -0.120739  \n",
       "2             -0.063211  0.316210               1       1  0.521802  \n",
       "3              1.289277  0.581751               2       1  0.004306  \n",
       "4              1.349126 -0.871738               1       1 -1.392328  \n",
       "...                 ...       ...             ...     ...       ...  \n",
       "5102          -0.642849 -1.193183               1       0 -0.514673  \n",
       "5105          -0.522324 -0.187682               1       0 -0.309708  \n",
       "5106           0.336054  1.364399               1       0  2.323806  \n",
       "5107          -0.538062  0.050668               1       0 -0.037216  \n",
       "5108           1.186976 -0.648124               0       0 -0.073490  \n",
       "\n",
       "[3565 rows x 11 columns]"
      ]
     },
     "execution_count": 41,
     "metadata": {},
     "output_type": "execute_result"
    }
   ],
   "source": [
    "#removing residence_type\n",
    "\n",
    "df2= df.drop('Residence_type', axis=1)\n",
    "df2\n"
   ]
  },
  {
   "cell_type": "code",
   "execution_count": null,
   "id": "60ba22e4",
   "metadata": {},
   "outputs": [],
   "source": []
  },
  {
   "cell_type": "markdown",
   "id": "2dee58b9",
   "metadata": {},
   "source": [
    "# Removing Residence Type"
   ]
  },
  {
   "cell_type": "code",
   "execution_count": 42,
   "id": "49332c2f",
   "metadata": {},
   "outputs": [],
   "source": [
    "from sklearn.model_selection import train_test_split\n",
    "X = df.drop('stroke', axis=1)\n",
    "y = df['stroke']\n",
    "X_train, X_test, y_train, y_test = train_test_split(X, y, test_size=0.3, random_state=109)\n",
    "\n",
    "X_df2 = df2.drop('stroke', axis=1)\n",
    "y_df2 = df2['stroke']\n",
    "X_train2, X_test2, y_train2, y_test2 = train_test_split(X_df2, y_df2, test_size=0.3, random_state=109)\n",
    "\n"
   ]
  },
  {
   "cell_type": "code",
   "execution_count": 43,
   "id": "2e90545c",
   "metadata": {},
   "outputs": [
    {
     "name": "stdout",
     "output_type": "stream",
     "text": [
      "Before resampling: \n",
      "0    2339\n",
      "1     156\n",
      "Name: stroke, dtype: int64\n",
      "After resampling: \n",
      "0    2339\n",
      "1    1169\n",
      "Name: stroke, dtype: int64\n"
     ]
    }
   ],
   "source": [
    "#for original data set\n",
    "from copy import deepcopy\n",
    "from imblearn.over_sampling import SMOTE\n",
    "\n",
    "# Instantiate SMOTE object\n",
    "smote = SMOTE(random_state = 42, sampling_strategy = 0.5)\n",
    "\n",
    "# Resample the data\n",
    "X_resampled, y_resampled = smote.fit_resample(X_train, y_train)\n",
    "\n",
    "# Print the number of samples in each class before and after resampling\n",
    "print(f\"Before resampling: \\n{y_train.value_counts()}\")\n",
    "print(f\"After resampling: \\n{y_resampled.value_counts()}\")"
   ]
  },
  {
   "cell_type": "code",
   "execution_count": 44,
   "id": "bfaf960d",
   "metadata": {},
   "outputs": [],
   "source": [
    "import xgboost\n",
    "from numpy import loadtxt\n",
    "from xgboost import XGBClassifier\n",
    "from xgboost import plot_importance\n",
    "from matplotlib import  pyplot"
   ]
  },
  {
   "cell_type": "code",
   "execution_count": null,
   "id": "d1d0a574",
   "metadata": {},
   "outputs": [],
   "source": []
  },
  {
   "cell_type": "code",
   "execution_count": 45,
   "id": "a83a7f69",
   "metadata": {},
   "outputs": [
    {
     "name": "stdout",
     "output_type": "stream",
     "text": [
      "Before resampling: \n",
      "0    2339\n",
      "1     156\n",
      "Name: stroke, dtype: int64\n",
      "After resampling: \n",
      "0    2339\n",
      "1    1169\n",
      "Name: stroke, dtype: int64\n"
     ]
    }
   ],
   "source": [
    "# for dataset without Residence Type\n",
    "from copy import deepcopy\n",
    "from imblearn.over_sampling import SMOTE\n",
    "\n",
    "\n",
    "# Instantiate SMOTE object\n",
    "smote = SMOTE(random_state = 42, sampling_strategy = 0.5)\n",
    "\n",
    "# Resample the data\n",
    "X_resampled2, y_resampled2 = smote.fit_resample(X_train2, y_train2)\n",
    "\n",
    "# Print the number of samples in each class before and after resampling\n",
    "print(f\"Before resampling: \\n{y_train2.value_counts()}\")\n",
    "print(f\"After resampling: \\n{y_resampled.value_counts()}\")"
   ]
  },
  {
   "cell_type": "markdown",
   "id": "88f9a719",
   "metadata": {},
   "source": [
    "## Function to show Model Classification Results"
   ]
  },
  {
   "cell_type": "code",
   "execution_count": 49,
   "id": "93407f76",
   "metadata": {},
   "outputs": [],
   "source": [
    "# function to print out model's classification results \n",
    "def get_model_results(classifier, model, x_train, y_train, x_test, y_test):\n",
    "    # fit the model with data \n",
    "    model.fit(x_train,y_train)\n",
    "    y_pred = model.predict(x_test)\n",
    "    print(\"Results for \"+ classifier)\n",
    "    print(\"Accuracy:\", metrics.accuracy_score(y_test,y_pred))\n",
    "    print(\"Recall:\", metrics.recall_score(y_test,y_pred))\n",
    "    print(\"Precision:\", metrics.precision_score(y_test,y_pred))\n",
    "    print(\"F1 Score:\", metrics.f1_score(y_test,y_pred))\n",
    "\n",
    "    # confusion matrix \n",
    "    cfn_matrix = metrics.confusion_matrix(y_test,y_pred,labels=[1,0])\n",
    "    print(\"\\nConfusion Matrix:\\n\")\n",
    "    print(cfn_matrix)\n",
    "\n",
    "    # Classification Report \n",
    "    print(\"\\nClassification Report:\\n\")\n",
    "\n",
    "    print(classification_report(y_test, y_pred))\n",
    "    \n",
    "    accuracy = metrics.accuracy_score(y_test,y_pred)\n",
    "    recall = metrics.recall_score(y_test,y_pred)\n",
    "    precision = metrics.precision_score(y_test,y_pred)\n",
    "    f1 = metrics.f1_score(y_test,y_pred)\n",
    "    results = [accuracy, recall, precision, f1]\n",
    "    return results"
   ]
  },
  {
   "cell_type": "markdown",
   "id": "da36a17b",
   "metadata": {},
   "source": [
    "## Ada Boost"
   ]
  },
  {
   "cell_type": "code",
   "execution_count": 52,
   "id": "39d32173",
   "metadata": {},
   "outputs": [],
   "source": [
    "# import AdaBoost Model \n",
    "from sklearn.ensemble import AdaBoostClassifier \n",
    "from sklearn.model_selection import GridSearchCV\n",
    "from sklearn import metrics\n",
    "from sklearn.metrics import classification_report \n"
   ]
  },
  {
   "cell_type": "code",
   "execution_count": 69,
   "id": "d38fcc1c",
   "metadata": {},
   "outputs": [],
   "source": [
    "grid_params = {\n",
    "    'n_estimators': [50,100,200,400],\n",
    "    'algorithm': ['SAMME','SAMME.R'],\n",
    "    'learning_rate': [0.001,0.05,0.1,0.2],\n",
    "}"
   ]
  },
  {
   "cell_type": "code",
   "execution_count": 70,
   "id": "a412229a",
   "metadata": {},
   "outputs": [
    {
     "name": "stdout",
     "output_type": "stream",
     "text": [
      "Best hyper parameters: {'algorithm': 'SAMME.R', 'learning_rate': 0.2, 'n_estimators': 400} Score 0.7987490398332053\n"
     ]
    }
   ],
   "source": [
    "abModel = AdaBoostClassifier(random_state=23)\n",
    "gridCV = GridSearchCV(abModel, param_grid=grid_params, verbose=False)\n",
    "gridCV.fit(X_resampled, y_resampled)\n",
    "print('Best hyper parameters:', gridCV.best_params_, 'Score', gridCV.best_score_)\n"
   ]
  },
  {
   "cell_type": "code",
   "execution_count": 76,
   "id": "1fe1215c",
   "metadata": {},
   "outputs": [],
   "source": [
    "good_AB = AdaBoostClassifier(n_estimators = 400, learning_rate = 0.2, algorithm = 'SAMME.R', random_state=23)\n"
   ]
  },
  {
   "cell_type": "code",
   "execution_count": 77,
   "id": "3c9afb3c",
   "metadata": {},
   "outputs": [
    {
     "name": "stdout",
     "output_type": "stream",
     "text": [
      "Results for Ada Boosting\n",
      "Accuracy: 0.8355140186915888\n",
      "Recall: 0.45652173913043476\n",
      "Precision: 0.12209302325581395\n",
      "F1 Score: 0.19266055045871558\n",
      "\n",
      "Confusion Matrix:\n",
      "\n",
      "[[ 21  25]\n",
      " [151 873]]\n",
      "\n",
      "Classification Report:\n",
      "\n",
      "              precision    recall  f1-score   support\n",
      "\n",
      "           0       0.97      0.85      0.91      1024\n",
      "           1       0.12      0.46      0.19        46\n",
      "\n",
      "    accuracy                           0.84      1070\n",
      "   macro avg       0.55      0.65      0.55      1070\n",
      "weighted avg       0.94      0.84      0.88      1070\n",
      "\n"
     ]
    },
    {
     "data": {
      "text/plain": [
       "[0.8355140186915888,\n",
       " 0.45652173913043476,\n",
       " 0.12209302325581395,\n",
       " 0.19266055045871558]"
      ]
     },
     "execution_count": 77,
     "metadata": {},
     "output_type": "execute_result"
    }
   ],
   "source": [
    "get_model_results(\"Ada Boosting\", good_AB, X_resampled, y_resampled, X_test, y_test)"
   ]
  },
  {
   "cell_type": "code",
   "execution_count": 78,
   "id": "ef932d39",
   "metadata": {},
   "outputs": [
    {
     "data": {
      "image/png": "[encoded data removed]",
      "text/plain": [
       "<Figure size 640x480 with 1 Axes>"
      ]
     },
     "metadata": {},
     "output_type": "display_data"
    },
    {
     "data": {
      "text/plain": [
       "0.8030846637228262"
      ]
     },
     "execution_count": 78,
     "metadata": {},
     "output_type": "execute_result"
    }
   ],
   "source": [
    "#plot roc curve \n",
    "import matplotlib.pyplot as plt \n",
    "# predicted probabilities of class 1 \n",
    "by_pred_prob_goodAB = good_AB.predict_proba(X_test)[:,1]\n",
    "fpr, tpr, _ = metrics.roc_curve(y_test, by_pred_prob_goodAB)\n",
    "auc = metrics.roc_auc_score(y_test, by_pred_prob_goodAB)\n",
    "plt.plot(fpr,tpr,label=\"AB_Model, auc =\"+str(\"{:.3f}\".format(auc)))\n",
    "plt.legend(loc=4)\n",
    "plt.show()\n",
    "ab_auc = auc\n",
    "ab_auc"
   ]
  },
  {
   "cell_type": "markdown",
   "id": "fa3d9cea",
   "metadata": {},
   "source": [
    "## Ada Boost Without Residence Type"
   ]
  },
  {
   "cell_type": "code",
   "execution_count": 59,
   "id": "1467efe4",
   "metadata": {},
   "outputs": [],
   "source": [
    "grid_params = {\n",
    "    'n_estimators': [50,100,200,400],\n",
    "    'algorithm': ['SAMME','SAMME.R'],\n",
    "    'learning_rate': [0.01,0.05,0.1,0.2],\n",
    "}"
   ]
  },
  {
   "cell_type": "code",
   "execution_count": 60,
   "id": "473ec592",
   "metadata": {},
   "outputs": [
    {
     "name": "stdout",
     "output_type": "stream",
     "text": [
      "Best hyper parameters: {'algorithm': 'SAMME.R', 'learning_rate': 0.2, 'n_estimators': 400} Score 0.7953282043153654\n"
     ]
    }
   ],
   "source": [
    "abModel = AdaBoostClassifier(random_state=23)\n",
    "gridCV = GridSearchCV(abModel, param_grid=grid_params, verbose=False)\n",
    "gridCV.fit(X_resampled2, y_resampled2)\n",
    "print('Best hyper parameters:', gridCV.best_params_, 'Score', gridCV.best_score_)\n"
   ]
  },
  {
   "cell_type": "code",
   "execution_count": 66,
   "id": "774b068f",
   "metadata": {},
   "outputs": [],
   "source": [
    "AB_noRes = AdaBoostClassifier(n_estimators = 400, learning_rate = 0.2, algorithm = 'SAMME.R', random_state=23)\n"
   ]
  },
  {
   "cell_type": "code",
   "execution_count": 79,
   "id": "5a4c24a9",
   "metadata": {},
   "outputs": [
    {
     "name": "stdout",
     "output_type": "stream",
     "text": [
      "Results for Ada Boosting\n",
      "Accuracy: 0.8336448598130841\n",
      "Recall: 0.43478260869565216\n",
      "Precision: 0.11627906976744186\n",
      "F1 Score: 0.18348623853211007\n",
      "\n",
      "Confusion Matrix:\n",
      "\n",
      "[[ 20  26]\n",
      " [152 872]]\n",
      "\n",
      "Classification Report:\n",
      "\n",
      "              precision    recall  f1-score   support\n",
      "\n",
      "           0       0.97      0.85      0.91      1024\n",
      "           1       0.12      0.43      0.18        46\n",
      "\n",
      "    accuracy                           0.83      1070\n",
      "   macro avg       0.54      0.64      0.55      1070\n",
      "weighted avg       0.93      0.83      0.88      1070\n",
      "\n"
     ]
    },
    {
     "data": {
      "text/plain": [
       "[0.8336448598130841,\n",
       " 0.43478260869565216,\n",
       " 0.11627906976744186,\n",
       " 0.18348623853211007]"
      ]
     },
     "execution_count": 79,
     "metadata": {},
     "output_type": "execute_result"
    }
   ],
   "source": [
    "get_model_results(\"Ada Boosting\", good_AB, X_resampled2, y_resampled2, X_test2, y_test2)"
   ]
  },
  {
   "cell_type": "code",
   "execution_count": 68,
   "id": "baebadc9",
   "metadata": {},
   "outputs": [
    {
     "data": {
      "image/png": "[encoded data removed]",
      "text/plain": [
       "<Figure size 640x480 with 1 Axes>"
      ]
     },
     "metadata": {},
     "output_type": "display_data"
    },
    {
     "data": {
      "text/plain": [
       "0.7596064028532609"
      ]
     },
     "execution_count": 68,
     "metadata": {},
     "output_type": "execute_result"
    }
   ],
   "source": [
    "#plot roc curve \n",
    "import matplotlib.pyplot as plt \n",
    "# predicted probabilities of class 1 \n",
    "by_pred_prob_goodAB = good_AB.predict_proba(X_test2)[:,1]\n",
    "fpr, tpr, _ = metrics.roc_curve(y_test2, by_pred_prob_goodAB)\n",
    "auc = metrics.roc_auc_score(y_test2, by_pred_prob_goodAB)\n",
    "plt.plot(fpr,tpr,label=\"AB_Model, auc =\"+str(\"{:.3f}\".format(auc)))\n",
    "plt.legend(loc=4)\n",
    "plt.show()\n",
    "ab_auc = auc\n",
    "ab_auc"
   ]
  },
  {
   "cell_type": "code",
   "execution_count": null,
   "id": "65a46e49",
   "metadata": {},
   "outputs": [],
   "source": []
  }
 ],
 "metadata": {
  "kernelspec": {
   "display_name": "Python 3 (ipykernel)",
   "language": "python",
   "name": "python3"
  },
  "language_info": {
   "codemirror_mode": {
    "name": "ipython",
    "version": 3
   },
   "file_extension": ".py",
   "mimetype": "text/x-python",
   "name": "python",
   "nbconvert_exporter": "python",
   "pygments_lexer": "ipython3",
   "version": "3.11.0"
  }
 },
 "nbformat": 4,
 "nbformat_minor": 5
}
